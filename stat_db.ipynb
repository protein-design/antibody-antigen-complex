{
 "cells": [
  {
   "cell_type": "raw",
   "id": "7ccb3d3a-ffdf-4fd7-b52e-e75f6ced3221",
   "metadata": {},
   "source": [
    "conda activate openfold-env"
   ]
  },
  {
   "cell_type": "code",
   "execution_count": 1,
   "id": "b13217e4-faea-447e-abda-8fc167f84baf",
   "metadata": {},
   "outputs": [],
   "source": [
    "import os\n",
    "import sys\n",
    "import numpy as np\n",
    "import pandas as pd\n",
    "import matplotlib.pyplot as plt\n",
    "import seaborn as sns\n",
    "from pprint import pprint"
   ]
  },
  {
   "cell_type": "code",
   "execution_count": 2,
   "id": "04464f70-acd8-4b08-a129-fd35f08f0917",
   "metadata": {},
   "outputs": [
    {
     "name": "stdout",
     "output_type": "stream",
     "text": [
      "project direcotry is  /home/yuan/bio\n",
      "['/home/yuan/anaconda3/envs/openfold-env/lib/python310.zip', '/home/yuan/anaconda3/envs/openfold-env/lib/python3.10', '/home/yuan/anaconda3/envs/openfold-env/lib/python3.10/lib-dynload', '', '/home/yuan/anaconda3/envs/openfold-env/lib/python3.10/site-packages', '/home/yuan/anaconda3/envs/openfold-env/lib/python3.10/site-packages/openfold-2.2.0-py3.10-linux-x86_64.egg', '/home/yuan/bio']\n"
     ]
    }
   ],
   "source": [
    "%load_ext autoreload\n",
    "%autoreload 2 \n",
    "\n",
    "project_dir = os.path.dirname(os.getcwd())\n",
    "print('project direcotry is ', project_dir)\n",
    "if project_dir not in sys.path:\n",
    "    sys.path.append(project_dir)\n",
    "print(sys.path)\n",
    "#\n",
    "pdb_dir = '/home/yuan/data/pdb/rsync'\n",
    "data_dir = './data/'\n",
    "outputs_dir = '/home/yuan/output/pdb_abag'"
   ]
  },
  {
   "cell_type": "code",
   "execution_count": null,
   "id": "0339c641-8ffe-491b-999f-431ba3a7d760",
   "metadata": {},
   "outputs": [],
   "source": []
  },
  {
   "cell_type": "markdown",
   "id": "335f5780-c6bc-41c6-aea1-669d693a0246",
   "metadata": {},
   "source": [
    "## 1. PDB "
   ]
  },
  {
   "cell_type": "markdown",
   "id": "dcc4d7f4-cf40-4785-8bf3-50eca95de686",
   "metadata": {},
   "source": [
    "### 1.1 AACDB"
   ]
  },
  {
   "cell_type": "code",
   "execution_count": 331,
   "id": "8b3b12bf-d04a-4e33-9bb7-ed255e9a7661",
   "metadata": {},
   "outputs": [
    {
     "name": "stderr",
     "output_type": "stream",
     "text": [
      "--2025-05-13 08:22:42--  https://i.uestc.edu.cn/AACDB/data_zip/protein_table.txt\n",
      "Resolving i.uestc.edu.cn (i.uestc.edu.cn)... 222.197.166.2, 2001:250:2000:71:222:197:166:2\n",
      "Connecting to i.uestc.edu.cn (i.uestc.edu.cn)|222.197.166.2|:443... connected.\n",
      "HTTP request sent, awaiting response... 416 Requested Range Not Satisfiable\n",
      "\n",
      "    The file is already fully retrieved; nothing to do.\n",
      "\n"
     ]
    },
    {
     "data": {
      "text/plain": [
       "0"
      ]
     },
     "execution_count": 331,
     "metadata": {},
     "output_type": "execute_result"
    }
   ],
   "source": [
    "# download summary \n",
    "os.system(f\"wget -c https://i.uestc.edu.cn/AACDB/data_zip/protein_table.txt -P {data_dir}\")"
   ]
  },
  {
   "cell_type": "code",
   "execution_count": 18,
   "id": "17843cd9-c42b-472f-9992-c92997a8ec17",
   "metadata": {},
   "outputs": [
    {
     "data": {
      "text/html": [
       "<div>\n",
       "<style scoped>\n",
       "    .dataframe tbody tr th:only-of-type {\n",
       "        vertical-align: middle;\n",
       "    }\n",
       "\n",
       "    .dataframe tbody tr th {\n",
       "        vertical-align: top;\n",
       "    }\n",
       "\n",
       "    .dataframe thead th {\n",
       "        text-align: right;\n",
       "    }\n",
       "</style>\n",
       "<table border=\"1\" class=\"dataframe\">\n",
       "  <thead>\n",
       "    <tr style=\"text-align: right;\">\n",
       "      <th></th>\n",
       "      <th>id</th>\n",
       "      <th>pdb</th>\n",
       "      <th>chains</th>\n",
       "      <th>antibody</th>\n",
       "      <th>INN(clinical_trial)</th>\n",
       "      <th>ab_mutation</th>\n",
       "      <th>mutation</th>\n",
       "      <th>protein</th>\n",
       "      <th>targets</th>\n",
       "      <th>ag_mutation</th>\n",
       "      <th>mutation1</th>\n",
       "      <th>organism</th>\n",
       "      <th>method</th>\n",
       "      <th>resolution</th>\n",
       "      <th>reference</th>\n",
       "    </tr>\n",
       "  </thead>\n",
       "  <tbody>\n",
       "    <tr>\n",
       "      <th>0</th>\n",
       "      <td>1</td>\n",
       "      <td>1A14</td>\n",
       "      <td>HL_N</td>\n",
       "      <td>NC10 Fv</td>\n",
       "      <td>NaN</td>\n",
       "      <td>No</td>\n",
       "      <td>NaN</td>\n",
       "      <td>NEURAMINIDASE</td>\n",
       "      <td>P03472</td>\n",
       "      <td>No</td>\n",
       "      <td>NaN</td>\n",
       "      <td>Influenza A virus, Mus musculus</td>\n",
       "      <td>XRD</td>\n",
       "      <td>2.50</td>\n",
       "      <td>10.1006/jmbi.1998.1794</td>\n",
       "    </tr>\n",
       "    <tr>\n",
       "      <th>1</th>\n",
       "      <td>2</td>\n",
       "      <td>1A2Y</td>\n",
       "      <td>BA_C</td>\n",
       "      <td>D1.3 Fv</td>\n",
       "      <td>NaN</td>\n",
       "      <td>No</td>\n",
       "      <td>NaN</td>\n",
       "      <td>Lysozyme C</td>\n",
       "      <td>NaN</td>\n",
       "      <td>Yes</td>\n",
       "      <td>D18A</td>\n",
       "      <td>Mus musculus, Gallus gallus</td>\n",
       "      <td>XRD</td>\n",
       "      <td>1.50</td>\n",
       "      <td>10.1021/bi980148j</td>\n",
       "    </tr>\n",
       "    <tr>\n",
       "      <th>2</th>\n",
       "      <td>3</td>\n",
       "      <td>1ADQ</td>\n",
       "      <td>HL_A</td>\n",
       "      <td>RF-AN Fab</td>\n",
       "      <td>NaN</td>\n",
       "      <td>No</td>\n",
       "      <td>NaN</td>\n",
       "      <td>IgG Fc</td>\n",
       "      <td>P01861;Q6PYX1;P01857;P01859</td>\n",
       "      <td>No</td>\n",
       "      <td>NaN</td>\n",
       "      <td>Homo sapiens</td>\n",
       "      <td>XRD</td>\n",
       "      <td>3.15</td>\n",
       "      <td>10.1038/nsb0597-374</td>\n",
       "    </tr>\n",
       "  </tbody>\n",
       "</table>\n",
       "</div>"
      ],
      "text/plain": [
       "   id   pdb chains   antibody INN(clinical_trial) ab_mutation mutation  \\\n",
       "0   1  1A14   HL_N    NC10 Fv                 NaN          No      NaN   \n",
       "1   2  1A2Y   BA_C    D1.3 Fv                 NaN          No      NaN   \n",
       "2   3  1ADQ   HL_A  RF-AN Fab                 NaN          No      NaN   \n",
       "\n",
       "         protein                      targets ag_mutation mutation1  \\\n",
       "0  NEURAMINIDASE                       P03472          No       NaN   \n",
       "1     Lysozyme C                          NaN         Yes      D18A   \n",
       "2         IgG Fc  P01861;Q6PYX1;P01857;P01859          No       NaN   \n",
       "\n",
       "                          organism method  resolution               reference  \n",
       "0  Influenza A virus, Mus musculus    XRD        2.50  10.1006/jmbi.1998.1794  \n",
       "1      Mus musculus, Gallus gallus    XRD        1.50       10.1021/bi980148j  \n",
       "2                     Homo sapiens    XRD        3.15     10.1038/nsb0597-374  "
      ]
     },
     "execution_count": 18,
     "metadata": {},
     "output_type": "execute_result"
    }
   ],
   "source": [
    "infile = os.path.join(data_dir, 'protein_table.txt')\n",
    "aacdb_summary = pd.read_csv(infile, sep='\\t')\n",
    "aacdb_summary.head(3)"
   ]
  },
  {
   "cell_type": "code",
   "execution_count": 270,
   "id": "9b4d42b2-8e35-4a3b-8f7d-768e9a27465a",
   "metadata": {},
   "outputs": [
    {
     "data": {
      "text/html": [
       "<div>\n",
       "<style scoped>\n",
       "    .dataframe tbody tr th:only-of-type {\n",
       "        vertical-align: middle;\n",
       "    }\n",
       "\n",
       "    .dataframe tbody tr th {\n",
       "        vertical-align: top;\n",
       "    }\n",
       "\n",
       "    .dataframe thead th {\n",
       "        text-align: right;\n",
       "    }\n",
       "</style>\n",
       "<table border=\"1\" class=\"dataframe\">\n",
       "  <thead>\n",
       "    <tr style=\"text-align: right;\">\n",
       "      <th></th>\n",
       "      <th>pdb_id</th>\n",
       "      <th>model</th>\n",
       "      <th>chain_id</th>\n",
       "      <th>chain_type</th>\n",
       "    </tr>\n",
       "  </thead>\n",
       "  <tbody>\n",
       "    <tr>\n",
       "      <th>0</th>\n",
       "      <td>1A14</td>\n",
       "      <td>0</td>\n",
       "      <td>H</td>\n",
       "      <td>antibody</td>\n",
       "    </tr>\n",
       "    <tr>\n",
       "      <th>1</th>\n",
       "      <td>1A14</td>\n",
       "      <td>0</td>\n",
       "      <td>L</td>\n",
       "      <td>antibody</td>\n",
       "    </tr>\n",
       "    <tr>\n",
       "      <th>2</th>\n",
       "      <td>1A14</td>\n",
       "      <td>0</td>\n",
       "      <td>N</td>\n",
       "      <td>antigen</td>\n",
       "    </tr>\n",
       "    <tr>\n",
       "      <th>3</th>\n",
       "      <td>1A2Y</td>\n",
       "      <td>0</td>\n",
       "      <td>B</td>\n",
       "      <td>antibody</td>\n",
       "    </tr>\n",
       "    <tr>\n",
       "      <th>4</th>\n",
       "      <td>1A2Y</td>\n",
       "      <td>0</td>\n",
       "      <td>A</td>\n",
       "      <td>antibody</td>\n",
       "    </tr>\n",
       "  </tbody>\n",
       "</table>\n",
       "</div>"
      ],
      "text/plain": [
       "  pdb_id  model chain_id chain_type\n",
       "0   1A14      0        H   antibody\n",
       "1   1A14      0        L   antibody\n",
       "2   1A14      0        N    antigen\n",
       "3   1A2Y      0        B   antibody\n",
       "4   1A2Y      0        A   antibody"
      ]
     },
     "execution_count": 270,
     "metadata": {},
     "output_type": "execute_result"
    }
   ],
   "source": [
    "def load_aacdb(aacdb_summary):\n",
    "    aacdb = []\n",
    "    for ix, row in aacdb_summary.iterrows():\n",
    "        a, b = row['chains'].split('_')\n",
    "        for _a in a:\n",
    "            rec = {\n",
    "                'pdb_id': row['pdb'],\n",
    "                'model': 0,\n",
    "                'chain_id': _a,\n",
    "                'chain_type': 'antibody',\n",
    "            }\n",
    "            aacdb.append(rec)\n",
    "        for _b in b:\n",
    "            rec = {\n",
    "                'pdb_id': row['pdb'],\n",
    "                'model': 0,\n",
    "                'chain_id': _b,\n",
    "                'chain_type': 'antigen',\n",
    "            }\n",
    "            aacdb.append(rec)\n",
    "    return pd.DataFrame(aacdb)\n",
    "\n",
    "aacdb = load_aacdb(aacdb_summary)\n",
    "aacdb.head()"
   ]
  },
  {
   "cell_type": "code",
   "execution_count": null,
   "id": "3814d0a2-2739-40de-9b2f-4765799b909b",
   "metadata": {},
   "outputs": [],
   "source": []
  },
  {
   "cell_type": "markdown",
   "id": "5dc3ee36-f1d0-466e-bf72-6a7ed9d48238",
   "metadata": {},
   "source": [
    "### 1.2 SAbDab"
   ]
  },
  {
   "cell_type": "raw",
   "id": "f6fc3c45-7843-4c76-9da1-a32802d672cc",
   "metadata": {},
   "source": [
    "# Employ a python script to download summary data\n",
    "# wget -cv https://opig.stats.ox.ac.uk/webapps/abdb/entries/9l6c/summary/9l6c.tsv ./ || true\n",
    "# till 051325, 5308 retrieved, 51 failed\n",
    "python download_sabdab.py /home/yuan/data/sabdab /home/yuan/data/pdb/rsync"
   ]
  },
  {
   "cell_type": "code",
   "execution_count": 120,
   "id": "6783e12b-3293-4a2f-8339-5e0fe2b5759f",
   "metadata": {},
   "outputs": [
    {
     "name": "stdout",
     "output_type": "stream",
     "text": [
      "(14486, 30)\n"
     ]
    },
    {
     "data": {
      "text/html": [
       "<div>\n",
       "<style scoped>\n",
       "    .dataframe tbody tr th:only-of-type {\n",
       "        vertical-align: middle;\n",
       "    }\n",
       "\n",
       "    .dataframe tbody tr th {\n",
       "        vertical-align: top;\n",
       "    }\n",
       "\n",
       "    .dataframe thead th {\n",
       "        text-align: right;\n",
       "    }\n",
       "</style>\n",
       "<table border=\"1\" class=\"dataframe\">\n",
       "  <thead>\n",
       "    <tr style=\"text-align: right;\">\n",
       "      <th></th>\n",
       "      <th>pdb</th>\n",
       "      <th>Hchain</th>\n",
       "      <th>Lchain</th>\n",
       "      <th>model</th>\n",
       "      <th>antigen_chain</th>\n",
       "      <th>antigen_type</th>\n",
       "      <th>antigen_het_name</th>\n",
       "      <th>antigen_name</th>\n",
       "      <th>short_header</th>\n",
       "      <th>date</th>\n",
       "      <th>...</th>\n",
       "      <th>scfv</th>\n",
       "      <th>engineered</th>\n",
       "      <th>heavy_subclass</th>\n",
       "      <th>light_subclass</th>\n",
       "      <th>light_ctype</th>\n",
       "      <th>affinity</th>\n",
       "      <th>delta_g</th>\n",
       "      <th>affinity_method</th>\n",
       "      <th>temperature</th>\n",
       "      <th>pmid</th>\n",
       "    </tr>\n",
       "  </thead>\n",
       "  <tbody>\n",
       "  </tbody>\n",
       "</table>\n",
       "<p>0 rows × 30 columns</p>\n",
       "</div>"
      ],
      "text/plain": [
       "Empty DataFrame\n",
       "Columns: [pdb, Hchain, Lchain, model, antigen_chain, antigen_type, antigen_het_name, antigen_name, short_header, date, compound, organism, heavy_species, light_species, antigen_species, authors, resolution, method, r_free, r_factor, scfv, engineered, heavy_subclass, light_subclass, light_ctype, affinity, delta_g, affinity_method, temperature, pmid]\n",
       "Index: []\n",
       "\n",
       "[0 rows x 30 columns]"
      ]
     },
     "execution_count": 120,
     "metadata": {},
     "output_type": "execute_result"
    }
   ],
   "source": [
    "from src.dir import Dir\n",
    "\n",
    "sabdab_raw, n = [], 0\n",
    "file_iter = Dir('/home/yuan/data/sabdab/summary').recrusive_files()\n",
    "for path in file_iter:\n",
    "    if path.endswith('.tsv'):\n",
    "        df = pd.read_csv(path, sep='\\t')\n",
    "        if len(df) > 0:\n",
    "            sabdab_raw.append(df)\n",
    "sabdab_raw = pd.concat(sabdab_raw, axis=0)\n",
    "sabdab_raw['pdb'] = sabdab_raw['pdb'].str.upper()\n",
    "sabdab_summary = sabdab_raw[~sabdab_raw['antigen_chain'].isna()]\n",
    "# sabdab_summary = sabdab_summary[~(sabdab_summary['antigen_type']=='Hapten')]\n",
    "# sabdab_summary[(sabdab_summary['Hchain'].isna()) & (sabdab_summary['Lchain'].isna())]\n",
    "print(sabdab_summary.shape)\n",
    "sabdab_summary.head(n)"
   ]
  },
  {
   "cell_type": "code",
   "execution_count": 121,
   "id": "bb10b796-d9ca-42ae-8422-55cf5503c57f",
   "metadata": {},
   "outputs": [
    {
     "name": "stdout",
     "output_type": "stream",
     "text": [
      "(40361, 4)\n"
     ]
    },
    {
     "data": {
      "text/html": [
       "<div>\n",
       "<style scoped>\n",
       "    .dataframe tbody tr th:only-of-type {\n",
       "        vertical-align: middle;\n",
       "    }\n",
       "\n",
       "    .dataframe tbody tr th {\n",
       "        vertical-align: top;\n",
       "    }\n",
       "\n",
       "    .dataframe thead th {\n",
       "        text-align: right;\n",
       "    }\n",
       "</style>\n",
       "<table border=\"1\" class=\"dataframe\">\n",
       "  <thead>\n",
       "    <tr style=\"text-align: right;\">\n",
       "      <th></th>\n",
       "      <th>pdb_id</th>\n",
       "      <th>model</th>\n",
       "      <th>chain_id</th>\n",
       "      <th>chain_type</th>\n",
       "    </tr>\n",
       "  </thead>\n",
       "  <tbody>\n",
       "    <tr>\n",
       "      <th>0</th>\n",
       "      <td>1A14</td>\n",
       "      <td>0</td>\n",
       "      <td>H</td>\n",
       "      <td>heavy</td>\n",
       "    </tr>\n",
       "    <tr>\n",
       "      <th>0</th>\n",
       "      <td>1A14</td>\n",
       "      <td>0</td>\n",
       "      <td>L</td>\n",
       "      <td>light</td>\n",
       "    </tr>\n",
       "    <tr>\n",
       "      <th>0</th>\n",
       "      <td>1A14</td>\n",
       "      <td>0</td>\n",
       "      <td>N</td>\n",
       "      <td>receptor</td>\n",
       "    </tr>\n",
       "    <tr>\n",
       "      <th>0</th>\n",
       "      <td>1A2Y</td>\n",
       "      <td>0</td>\n",
       "      <td>A</td>\n",
       "      <td>light</td>\n",
       "    </tr>\n",
       "    <tr>\n",
       "      <th>0</th>\n",
       "      <td>1A2Y</td>\n",
       "      <td>0</td>\n",
       "      <td>B</td>\n",
       "      <td>heavy</td>\n",
       "    </tr>\n",
       "  </tbody>\n",
       "</table>\n",
       "</div>"
      ],
      "text/plain": [
       "  pdb_id  model chain_id chain_type\n",
       "0   1A14      0        H      heavy\n",
       "0   1A14      0        L      light\n",
       "0   1A14      0        N   receptor\n",
       "0   1A2Y      0        A      light\n",
       "0   1A2Y      0        B      heavy"
      ]
     },
     "execution_count": 121,
     "metadata": {},
     "output_type": "execute_result"
    }
   ],
   "source": [
    "cols = ['pdb_id', 'model',  'chain_id']\n",
    "\n",
    "df1 = sabdab_summary[['pdb', 'model', 'Hchain']]\n",
    "df1.columns = cols\n",
    "df1 = df1[~df1['chain_id'].isna()]\n",
    "df1 = df1.assign(chain_type = 'heavy')\n",
    "\n",
    "df2 = sabdab_summary[['pdb','model','Lchain']]\n",
    "df2.columns = cols\n",
    "df2 = df2[~df2['chain_id'].isna()]\n",
    "df2 = df2.assign(chain_type = 'light')\n",
    "\n",
    "\n",
    "df3 = sabdab_summary[['pdb','model','antigen_chain']]\n",
    "df3.columns = cols\n",
    "df3 = df3.assign(chain_type = 'receptor')\n",
    "\n",
    "# concatenate\n",
    "sabdab = pd.concat([df1, df2, df3])\n",
    "sabdab = sabdab.sort_values(cols)\n",
    "print(sabdab.shape)\n",
    "sabdab.head()"
   ]
  },
  {
   "cell_type": "code",
   "execution_count": 122,
   "id": "a2e79fde-23e3-458d-b87d-ae02ac40ba43",
   "metadata": {},
   "outputs": [
    {
     "name": "stdout",
     "output_type": "stream",
     "text": [
      "(39336, 4) pdb_id        object\n",
      "model          int64\n",
      "chain_id      object\n",
      "chain_type    object\n",
      "dtype: object\n",
      "  pdb_id  model chain_id chain_type\n",
      "0   1A14      0        H      heavy\n",
      "0   1A14      0        L      light\n",
      "0   1A14      0        N   receptor\n",
      "0   1A2Y      0        A      light\n",
      "0   1A2Y      0        B      heavy\n"
     ]
    }
   ],
   "source": [
    "sabdab = sabdab.drop_duplicates()\n",
    "print(sabdab.shape, sabdab.dtypes)\n",
    "print(sabdab.head())"
   ]
  },
  {
   "cell_type": "code",
   "execution_count": 124,
   "id": "848a931c-b55e-4295-b079-b41b6e7b05b9",
   "metadata": {},
   "outputs": [
    {
     "data": {
      "text/plain": [
       "antigen_type\n",
       "protein                                            10201\n",
       "protein | protein                                   1722\n",
       "peptide                                             1346\n",
       "Hapten                                               493\n",
       "protein | protein | protein                          233\n",
       "carbohydrate                                         206\n",
       "protein | peptide                                    105\n",
       "nucleic-acid                                          76\n",
       "peptide | protein                                     18\n",
       "peptide | peptide                                     16\n",
       "protein | protein | protein | protein                 15\n",
       "unknown                                               13\n",
       "protein | protein | peptide                           11\n",
       "protein | protein | protein | protein | protein        8\n",
       "protein | nucleic-acid                                 3\n",
       "peptide | protein | protein                            3\n",
       "nucleic-acid | nucleic-acid                            3\n",
       "protein | peptide | protein                            3\n",
       "carbohydrate | protein | protein                       3\n",
       "peptide | peptide | peptide                            2\n",
       "carbohydrate | protein                                 2\n",
       "protein | protein | protein | peptide                  2\n",
       "protein | peptide | peptide                            1\n",
       "nucleic-acid | nucleic-acid | nucleic-acid             1\n",
       "Name: count, dtype: int64"
      ]
     },
     "execution_count": 124,
     "metadata": {},
     "output_type": "execute_result"
    }
   ],
   "source": [
    "sabdab_summary['antigen_type'].value_counts()"
   ]
  },
  {
   "cell_type": "code",
   "execution_count": null,
   "id": "4fde92fd-99b9-468d-bc79-eed187f480a7",
   "metadata": {},
   "outputs": [],
   "source": []
  },
  {
   "cell_type": "code",
   "execution_count": 74,
   "id": "0ed50d30-e576-4112-9671-6f1bc228e11e",
   "metadata": {},
   "outputs": [
    {
     "data": {
      "text/html": [
       "<div>\n",
       "<style scoped>\n",
       "    .dataframe tbody tr th:only-of-type {\n",
       "        vertical-align: middle;\n",
       "    }\n",
       "\n",
       "    .dataframe tbody tr th {\n",
       "        vertical-align: top;\n",
       "    }\n",
       "\n",
       "    .dataframe thead th {\n",
       "        text-align: right;\n",
       "    }\n",
       "</style>\n",
       "<table border=\"1\" class=\"dataframe\">\n",
       "  <thead>\n",
       "    <tr style=\"text-align: right;\">\n",
       "      <th></th>\n",
       "      <th>pdb</th>\n",
       "      <th>Hchain</th>\n",
       "      <th>Lchain</th>\n",
       "      <th>model</th>\n",
       "      <th>antigen_chain</th>\n",
       "      <th>antigen_type</th>\n",
       "      <th>antigen_het_name</th>\n",
       "      <th>antigen_name</th>\n",
       "      <th>short_header</th>\n",
       "      <th>date</th>\n",
       "      <th>...</th>\n",
       "      <th>scfv</th>\n",
       "      <th>engineered</th>\n",
       "      <th>heavy_subclass</th>\n",
       "      <th>light_subclass</th>\n",
       "      <th>light_ctype</th>\n",
       "      <th>affinity</th>\n",
       "      <th>delta_g</th>\n",
       "      <th>affinity_method</th>\n",
       "      <th>temperature</th>\n",
       "      <th>pmid</th>\n",
       "    </tr>\n",
       "  </thead>\n",
       "  <tbody>\n",
       "    <tr>\n",
       "      <th>0</th>\n",
       "      <td>1A8J</td>\n",
       "      <td>NaN</td>\n",
       "      <td>L</td>\n",
       "      <td>0</td>\n",
       "      <td>L</td>\n",
       "      <td>Hapten</td>\n",
       "      <td>PME</td>\n",
       "      <td>N-L-ALPHA-ASPARTYL L-PHENYLALANINE 1-METHYL ESTER</td>\n",
       "      <td>IMMUNOGLOBULIN</td>\n",
       "      <td>03/26/98</td>\n",
       "      <td>...</td>\n",
       "      <td>False</td>\n",
       "      <td>False</td>\n",
       "      <td>NaN</td>\n",
       "      <td>IGLV2</td>\n",
       "      <td>Lambda</td>\n",
       "      <td>NaN</td>\n",
       "      <td>NaN</td>\n",
       "      <td>NaN</td>\n",
       "      <td>NaN</td>\n",
       "      <td>NaN</td>\n",
       "    </tr>\n",
       "    <tr>\n",
       "      <th>1</th>\n",
       "      <td>1A8J</td>\n",
       "      <td>NaN</td>\n",
       "      <td>H</td>\n",
       "      <td>0</td>\n",
       "      <td>L</td>\n",
       "      <td>Hapten</td>\n",
       "      <td>PME</td>\n",
       "      <td>N-L-ALPHA-ASPARTYL L-PHENYLALANINE 1-METHYL ESTER</td>\n",
       "      <td>IMMUNOGLOBULIN</td>\n",
       "      <td>03/26/98</td>\n",
       "      <td>...</td>\n",
       "      <td>False</td>\n",
       "      <td>False</td>\n",
       "      <td>NaN</td>\n",
       "      <td>IGLV2</td>\n",
       "      <td>Lambda</td>\n",
       "      <td>NaN</td>\n",
       "      <td>NaN</td>\n",
       "      <td>NaN</td>\n",
       "      <td>NaN</td>\n",
       "      <td>NaN</td>\n",
       "    </tr>\n",
       "  </tbody>\n",
       "</table>\n",
       "<p>2 rows × 30 columns</p>\n",
       "</div>"
      ],
      "text/plain": [
       "    pdb Hchain Lchain  model antigen_chain antigen_type antigen_het_name  \\\n",
       "0  1A8J    NaN      L      0             L       Hapten              PME   \n",
       "1  1A8J    NaN      H      0             L       Hapten              PME   \n",
       "\n",
       "                                        antigen_name    short_header  \\\n",
       "0  N-L-ALPHA-ASPARTYL L-PHENYLALANINE 1-METHYL ESTER  IMMUNOGLOBULIN   \n",
       "1  N-L-ALPHA-ASPARTYL L-PHENYLALANINE 1-METHYL ESTER  IMMUNOGLOBULIN   \n",
       "\n",
       "       date  ...   scfv engineered heavy_subclass light_subclass light_ctype  \\\n",
       "0  03/26/98  ...  False      False            NaN          IGLV2      Lambda   \n",
       "1  03/26/98  ...  False      False            NaN          IGLV2      Lambda   \n",
       "\n",
       "  affinity delta_g affinity_method temperature pmid  \n",
       "0      NaN     NaN             NaN         NaN  NaN  \n",
       "1      NaN     NaN             NaN         NaN  NaN  \n",
       "\n",
       "[2 rows x 30 columns]"
      ]
     },
     "execution_count": 74,
     "metadata": {},
     "output_type": "execute_result"
    }
   ],
   "source": [
    "# antigen is antibody\n",
    "sabdab_summary[sabdab_summary['pdb']=='1A8J']"
   ]
  },
  {
   "cell_type": "code",
   "execution_count": 75,
   "id": "ff5b30e6-d0c9-48e5-bfd4-e8edd279cc9c",
   "metadata": {},
   "outputs": [
    {
     "data": {
      "text/html": [
       "<div>\n",
       "<style scoped>\n",
       "    .dataframe tbody tr th:only-of-type {\n",
       "        vertical-align: middle;\n",
       "    }\n",
       "\n",
       "    .dataframe tbody tr th {\n",
       "        vertical-align: top;\n",
       "    }\n",
       "\n",
       "    .dataframe thead th {\n",
       "        text-align: right;\n",
       "    }\n",
       "</style>\n",
       "<table border=\"1\" class=\"dataframe\">\n",
       "  <thead>\n",
       "    <tr style=\"text-align: right;\">\n",
       "      <th></th>\n",
       "      <th>pdb</th>\n",
       "      <th>Hchain</th>\n",
       "      <th>Lchain</th>\n",
       "      <th>model</th>\n",
       "      <th>antigen_chain</th>\n",
       "      <th>antigen_type</th>\n",
       "      <th>antigen_het_name</th>\n",
       "      <th>antigen_name</th>\n",
       "      <th>short_header</th>\n",
       "      <th>date</th>\n",
       "      <th>...</th>\n",
       "      <th>scfv</th>\n",
       "      <th>engineered</th>\n",
       "      <th>heavy_subclass</th>\n",
       "      <th>light_subclass</th>\n",
       "      <th>light_ctype</th>\n",
       "      <th>affinity</th>\n",
       "      <th>delta_g</th>\n",
       "      <th>affinity_method</th>\n",
       "      <th>temperature</th>\n",
       "      <th>pmid</th>\n",
       "    </tr>\n",
       "  </thead>\n",
       "  <tbody>\n",
       "    <tr>\n",
       "      <th>0</th>\n",
       "      <td>9B6T</td>\n",
       "      <td>H</td>\n",
       "      <td>L</td>\n",
       "      <td>0</td>\n",
       "      <td>C | D | B | F</td>\n",
       "      <td>protein | protein | protein | protein</td>\n",
       "      <td>NA | NA | NA | NA</td>\n",
       "      <td>capsid protein vp1 | capsid protein vp1 | caps...</td>\n",
       "      <td>VIRAL PROTEIN/IMMUNE SYSTEM</td>\n",
       "      <td>04/16/25</td>\n",
       "      <td>...</td>\n",
       "      <td>False</td>\n",
       "      <td>True</td>\n",
       "      <td>IGHV4</td>\n",
       "      <td>IGLV1</td>\n",
       "      <td>Lambda</td>\n",
       "      <td>NaN</td>\n",
       "      <td>NaN</td>\n",
       "      <td>NaN</td>\n",
       "      <td>NaN</td>\n",
       "      <td>NaN</td>\n",
       "    </tr>\n",
       "  </tbody>\n",
       "</table>\n",
       "<p>1 rows × 30 columns</p>\n",
       "</div>"
      ],
      "text/plain": [
       "    pdb Hchain Lchain  model  antigen_chain  \\\n",
       "0  9B6T      H      L      0  C | D | B | F   \n",
       "\n",
       "                            antigen_type   antigen_het_name  \\\n",
       "0  protein | protein | protein | protein  NA | NA | NA | NA   \n",
       "\n",
       "                                        antigen_name  \\\n",
       "0  capsid protein vp1 | capsid protein vp1 | caps...   \n",
       "\n",
       "                  short_header      date  ...   scfv engineered  \\\n",
       "0  VIRAL PROTEIN/IMMUNE SYSTEM  04/16/25  ...  False       True   \n",
       "\n",
       "  heavy_subclass light_subclass light_ctype affinity delta_g affinity_method  \\\n",
       "0          IGHV4          IGLV1      Lambda      NaN     NaN             NaN   \n",
       "\n",
       "  temperature pmid  \n",
       "0         NaN  NaN  \n",
       "\n",
       "[1 rows x 30 columns]"
      ]
     },
     "execution_count": 75,
     "metadata": {},
     "output_type": "execute_result"
    }
   ],
   "source": [
    "# example of complex that is not covered by sabdab\n",
    "sabdab_raw[sabdab_raw['pdb']==\"9B6T\"]"
   ]
  },
  {
   "cell_type": "code",
   "execution_count": 76,
   "id": "33258730-1d4e-4baf-aa1b-6333fa703c6c",
   "metadata": {},
   "outputs": [
    {
     "data": {
      "text/html": [
       "<div>\n",
       "<style scoped>\n",
       "    .dataframe tbody tr th:only-of-type {\n",
       "        vertical-align: middle;\n",
       "    }\n",
       "\n",
       "    .dataframe tbody tr th {\n",
       "        vertical-align: top;\n",
       "    }\n",
       "\n",
       "    .dataframe thead th {\n",
       "        text-align: right;\n",
       "    }\n",
       "</style>\n",
       "<table border=\"1\" class=\"dataframe\">\n",
       "  <thead>\n",
       "    <tr style=\"text-align: right;\">\n",
       "      <th></th>\n",
       "      <th>pdb</th>\n",
       "      <th>Hchain</th>\n",
       "      <th>Lchain</th>\n",
       "      <th>model</th>\n",
       "      <th>antigen_chain</th>\n",
       "      <th>antigen_type</th>\n",
       "      <th>antigen_het_name</th>\n",
       "      <th>antigen_name</th>\n",
       "      <th>short_header</th>\n",
       "      <th>date</th>\n",
       "      <th>...</th>\n",
       "      <th>scfv</th>\n",
       "      <th>engineered</th>\n",
       "      <th>heavy_subclass</th>\n",
       "      <th>light_subclass</th>\n",
       "      <th>light_ctype</th>\n",
       "      <th>affinity</th>\n",
       "      <th>delta_g</th>\n",
       "      <th>affinity_method</th>\n",
       "      <th>temperature</th>\n",
       "      <th>pmid</th>\n",
       "    </tr>\n",
       "  </thead>\n",
       "  <tbody>\n",
       "    <tr>\n",
       "      <th>0</th>\n",
       "      <td>3GM0</td>\n",
       "      <td>a</td>\n",
       "      <td>A</td>\n",
       "      <td>0</td>\n",
       "      <td>A</td>\n",
       "      <td>Hapten</td>\n",
       "      <td>B41</td>\n",
       "      <td>(2S)-1-(1,3-BENZODIOXOL-5-YL)-N-METHYLPROPAN-2...</td>\n",
       "      <td>IMMUNE SYSTEM</td>\n",
       "      <td>03/12/09</td>\n",
       "      <td>...</td>\n",
       "      <td>True</td>\n",
       "      <td>True</td>\n",
       "      <td>unknown</td>\n",
       "      <td>unknown</td>\n",
       "      <td>unknown</td>\n",
       "      <td>NaN</td>\n",
       "      <td>NaN</td>\n",
       "      <td>NaN</td>\n",
       "      <td>NaN</td>\n",
       "      <td>NaN</td>\n",
       "    </tr>\n",
       "  </tbody>\n",
       "</table>\n",
       "<p>1 rows × 30 columns</p>\n",
       "</div>"
      ],
      "text/plain": [
       "    pdb Hchain Lchain  model antigen_chain antigen_type antigen_het_name  \\\n",
       "0  3GM0      a      A      0             A       Hapten              B41   \n",
       "\n",
       "                                        antigen_name   short_header      date  \\\n",
       "0  (2S)-1-(1,3-BENZODIOXOL-5-YL)-N-METHYLPROPAN-2...  IMMUNE SYSTEM  03/12/09   \n",
       "\n",
       "   ...  scfv engineered heavy_subclass light_subclass light_ctype affinity  \\\n",
       "0  ...  True       True        unknown        unknown     unknown      NaN   \n",
       "\n",
       "  delta_g affinity_method temperature pmid  \n",
       "0     NaN             NaN         NaN  NaN  \n",
       "\n",
       "[1 rows x 30 columns]"
      ]
     },
     "execution_count": 76,
     "metadata": {},
     "output_type": "execute_result"
    }
   ],
   "source": [
    "# only one chain, antigen is small molecule\n",
    "sabdab_raw[sabdab_raw['pdb']==\"3GM0\"]"
   ]
  },
  {
   "cell_type": "markdown",
   "id": "3fe37506-cb60-41c8-a9bd-90b0646e767c",
   "metadata": {},
   "source": [
    "### 1.3 IEDB"
   ]
  },
  {
   "cell_type": "code",
   "execution_count": 267,
   "id": "49ba4e86-9d65-4d2e-ab20-5b9bc75cdedb",
   "metadata": {},
   "outputs": [
    {
     "data": {
      "text/html": [
       "<div>\n",
       "<style scoped>\n",
       "    .dataframe tbody tr th:only-of-type {\n",
       "        vertical-align: middle;\n",
       "    }\n",
       "\n",
       "    .dataframe tbody tr th {\n",
       "        vertical-align: top;\n",
       "    }\n",
       "\n",
       "    .dataframe thead th {\n",
       "        text-align: right;\n",
       "    }\n",
       "</style>\n",
       "<table border=\"1\" class=\"dataframe\">\n",
       "  <thead>\n",
       "    <tr style=\"text-align: right;\">\n",
       "      <th></th>\n",
       "      <th>pdb_id</th>\n",
       "      <th>complex_type</th>\n",
       "    </tr>\n",
       "  </thead>\n",
       "  <tbody>\n",
       "    <tr>\n",
       "      <th>0</th>\n",
       "      <td>2OTU</td>\n",
       "      <td>heavylight</td>\n",
       "    </tr>\n",
       "    <tr>\n",
       "      <th>1</th>\n",
       "      <td>2OTW</td>\n",
       "      <td>heavylight</td>\n",
       "    </tr>\n",
       "    <tr>\n",
       "      <th>2</th>\n",
       "      <td>3JCB</td>\n",
       "      <td>heavylight</td>\n",
       "    </tr>\n",
       "    <tr>\n",
       "      <th>3</th>\n",
       "      <td>5TUD</td>\n",
       "      <td>heavylight</td>\n",
       "    </tr>\n",
       "    <tr>\n",
       "      <th>4</th>\n",
       "      <td>6LXJ</td>\n",
       "      <td>construct</td>\n",
       "    </tr>\n",
       "  </tbody>\n",
       "</table>\n",
       "</div>"
      ],
      "text/plain": [
       "  pdb_id complex_type\n",
       "0   2OTU   heavylight\n",
       "1   2OTW   heavylight\n",
       "2   3JCB   heavylight\n",
       "3   5TUD   heavylight\n",
       "4   6LXJ    construct"
      ]
     },
     "execution_count": 267,
     "metadata": {},
     "output_type": "execute_result"
    }
   ],
   "source": [
    "# pip install mysql-connector-python\n",
    "import mysql.connector\n",
    "def load_iedb():\n",
    "    config = {\n",
    "        'host': 'localhost',\n",
    "        'user': 'admin',\n",
    "        'password': 'strong_password',\n",
    "        'database': 'IEDB'\n",
    "    }\n",
    "    try:\n",
    "        connection = mysql.connector.connect(**config)\n",
    "        cursor = connection.cursor(dictionary=True)\n",
    "        query = \"\"\"\n",
    "            SELECT pdb_id, complex_type\n",
    "            FROM complex\n",
    "            WHERE complex_type NOT IN ('alphabeta', 'I', 'II', 'non classical', 'IgNAR')\n",
    "        \"\"\"\n",
    "        cursor.execute(query)\n",
    "        rows = cursor.fetchall()\n",
    "        df = pd.DataFrame(rows)\n",
    "        return df\n",
    "    except Exception as e:\n",
    "        print(f\"Error: {e}\")\n",
    "    finally:\n",
    "        if 'connection' in locals() and connection.is_connected():\n",
    "            cursor.close()\n",
    "            connection.close()\n",
    "\n",
    "iedb = load_iedb()\n",
    "iedb.head()"
   ]
  },
  {
   "cell_type": "code",
   "execution_count": 256,
   "id": "3123fdcf-f9e2-4dfd-8f67-e5f5e9493d91",
   "metadata": {},
   "outputs": [
    {
     "data": {
      "text/html": [
       "<div>\n",
       "<style scoped>\n",
       "    .dataframe tbody tr th:only-of-type {\n",
       "        vertical-align: middle;\n",
       "    }\n",
       "\n",
       "    .dataframe tbody tr th {\n",
       "        vertical-align: top;\n",
       "    }\n",
       "\n",
       "    .dataframe thead th {\n",
       "        text-align: right;\n",
       "    }\n",
       "</style>\n",
       "<table border=\"1\" class=\"dataframe\">\n",
       "  <thead>\n",
       "    <tr style=\"text-align: right;\">\n",
       "      <th></th>\n",
       "      <th>pdb_id</th>\n",
       "    </tr>\n",
       "    <tr>\n",
       "      <th>complex_type</th>\n",
       "      <th></th>\n",
       "    </tr>\n",
       "  </thead>\n",
       "  <tbody>\n",
       "    <tr>\n",
       "      <th>heavylight</th>\n",
       "      <td>1885</td>\n",
       "    </tr>\n",
       "    <tr>\n",
       "      <th>construct</th>\n",
       "      <td>1738</td>\n",
       "    </tr>\n",
       "    <tr>\n",
       "      <th>heavy</th>\n",
       "      <td>671</td>\n",
       "    </tr>\n",
       "    <tr>\n",
       "      <th>scFv</th>\n",
       "      <td>206</td>\n",
       "    </tr>\n",
       "    <tr>\n",
       "      <th>lightlight</th>\n",
       "      <td>20</td>\n",
       "    </tr>\n",
       "    <tr>\n",
       "      <th>light</th>\n",
       "      <td>13</td>\n",
       "    </tr>\n",
       "    <tr>\n",
       "      <th>beta</th>\n",
       "      <td>5</td>\n",
       "    </tr>\n",
       "    <tr>\n",
       "      <th>gammadelta</th>\n",
       "      <td>4</td>\n",
       "    </tr>\n",
       "    <tr>\n",
       "      <th>TscFv</th>\n",
       "      <td>1</td>\n",
       "    </tr>\n",
       "  </tbody>\n",
       "</table>\n",
       "</div>"
      ],
      "text/plain": [
       "              pdb_id\n",
       "complex_type        \n",
       "heavylight      1885\n",
       "construct       1738\n",
       "heavy            671\n",
       "scFv             206\n",
       "lightlight        20\n",
       "light             13\n",
       "beta               5\n",
       "gammadelta         4\n",
       "TscFv              1"
      ]
     },
     "execution_count": 256,
     "metadata": {},
     "output_type": "execute_result"
    }
   ],
   "source": [
    "iedb.groupby('complex_type').agg(len).sort_values('pdb_id', ascending=False)"
   ]
  },
  {
   "cell_type": "markdown",
   "id": "ed1b5596-95d4-463f-b375-5d1c22e398e0",
   "metadata": {},
   "source": [
    "### 1.4 this study"
   ]
  },
  {
   "cell_type": "code",
   "execution_count": 264,
   "id": "c031fdcd-abea-40cc-bc40-ac4c680efe31",
   "metadata": {},
   "outputs": [],
   "source": [
    "# pdb files in this study\n",
    "from src.collect import Collect\n",
    "\n",
    "def load_abag():\n",
    "    abag_chains = []\n",
    "    meta_iter = Collect('/home/yuan/output/pdb_abag').meta()\n",
    "    for _data in meta_iter:\n",
    "        abag_chains.extend(_data)\n",
    "    abag_chains = pd.concat(abag_chains, axis=0)\n",
    "    abag_chains = abag_chains[['pdb_id', 'model',  'chain_id', 'chain_type']]\n",
    "    abag_chains = abag_chains.drop_duplicates()\n",
    "    # print(abag_chains.shape, abag_chains.dtypes)\n",
    "    abag_chains.head()\n",
    "    return abag_chains\n",
    "   \n",
    "abag = load_abag()"
   ]
  },
  {
   "cell_type": "markdown",
   "id": "6c8d67cf-0600-48db-87fa-012dd6ba4e33",
   "metadata": {},
   "source": [
    "## compare pdb_id"
   ]
  },
  {
   "cell_type": "markdown",
   "id": "7c62f494-002f-4ee6-889b-7ec85d5d9612",
   "metadata": {},
   "source": [
    "### Venn"
   ]
  },
  {
   "cell_type": "code",
   "execution_count": 265,
   "id": "2aa9434e-0d8c-4404-830a-44e81783a84d",
   "metadata": {},
   "outputs": [
    {
     "name": "stdout",
     "output_type": "stream",
     "text": [
      "SAbDab 7632 ['1A14' '1A2Y' '1A3L' ... '9MYL' '9UA9' '9UAA']\n",
      "AACDB 3674 ['1A14' '1A2Y' '1ADQ' ... '6OKN' '6SGE' '6V7Y']\n",
      "IEDB 4110 ['2OTU' '2OTW' '3JCB' ... '3HNV' '1IKF' '1IBG']\n",
      "this study: 10989 ['9FZD' '9FTD' '9FZB' ... '7L9H' '119L' '113L']\n"
     ]
    }
   ],
   "source": [
    "# check any pdb_ids which are not covered by the results of this study but in SAbDab \n",
    "# reason: some structures havenot coordinate files\n",
    "# SAbDab\n",
    "sabdab_pdb = sabdab['pdb_id'].dropna().unique()\n",
    "print('SAbDab', len(sabdab_pdb), sabdab_pdb)\n",
    "\n",
    "# AACDB\n",
    "aacdb_pdb = aacdb['pdb_id'].dropna().unique()\n",
    "print('AACDB', len(aacdb_pdb), aacdb_pdb)\n",
    "\n",
    "# IEDB\n",
    "iedb_pdb = iedb['pdb_id'].dropna().unique()\n",
    "print('IEDB', len(iedb_pdb), iedb_pdb)\n",
    "\n",
    "# this study\n",
    "abag_pdb = abag['pdb_id'].dropna().unique()\n",
    "print('this study:', len(abag_pdb), abag_pdb)"
   ]
  },
  {
   "cell_type": "code",
   "execution_count": 266,
   "id": "d79b9f73-e1a8-4083-be03-8e28ea3c5b6d",
   "metadata": {},
   "outputs": [
    {
     "data": {
      "text/plain": [
       "<Figure size 1600x800 with 0 Axes>"
      ]
     },
     "metadata": {},
     "output_type": "display_data"
    },
    {
     "data": {
      "image/png": "[encoded data removed]",
      "text/plain": [
       "<Figure size 700x700 with 1 Axes>"
      ]
     },
     "metadata": {},
     "output_type": "display_data"
    }
   ],
   "source": [
    "from venny4py.venny4py import *\n",
    "\n",
    "sets = {\n",
    "    'SAbDab': set(sabdab_pdb),\n",
    "    'AACDB': set(aacdb_pdb),\n",
    "    'IEDB': set(iedb_pdb), \n",
    "    'this study': set(abag_pdb),\n",
    "}\n",
    "plt.figure(figsize=(8,4))\n",
    "venny4py(sets=sets)\n",
    "plt.title('Count Antibody-Antigen Complex')\n",
    "plt.show()"
   ]
  },
  {
   "cell_type": "code",
   "execution_count": 284,
   "id": "3b34117a-d6d1-4e10-9938-6b7ada395f4a",
   "metadata": {},
   "outputs": [],
   "source": [
    "# set(iedb_pdb).difference(set(abag_pdb))"
   ]
  },
  {
   "cell_type": "code",
   "execution_count": null,
   "id": "86edd420-5c61-4160-89f2-334b6f869a1a",
   "metadata": {},
   "outputs": [],
   "source": []
  },
  {
   "cell_type": "markdown",
   "id": "d5f89f68-efeb-4e39-aaa5-1f7441bf0a0a",
   "metadata": {},
   "source": [
    "### this study vs SAbDab"
   ]
  },
  {
   "cell_type": "code",
   "execution_count": 276,
   "id": "24b42790-14f8-4ded-b2d2-839a793bce16",
   "metadata": {},
   "outputs": [],
   "source": [
    "from src.collect import Collect\n",
    "from src.parse_abag import ParseAbAg\n",
    "\n",
    "def pdb_difference(other):\n",
    "    abag = load_abag()\n",
    "    abag_pdb = abag['pdb_id'].unique()\n",
    "    exclude = [\n",
    "        # those pdb failed due to bugging of freesasa\n",
    "        '1OAX', '1OAU', '4CAU',\n",
    "        # particle\n",
    "        '7DST', '7DSS',\n",
    "        # non antibody complex\n",
    "        '4QKX', '6YO6', '7KI1', '7KI0', '6WPW', '3KS0',\n",
    "        '4KSD', '6O3C', '6A96', '5O1R', '4Y7M', '4H0I',\n",
    "        '3K1K', '3EBA','5EUL', '4MQX', '6HUG', '6HUP',\n",
    "        '6HUK', '6HUJ','6HUO','3MUH','6JSZ', '3P9W',\n",
    "        '7D5B', '7D5U', '7WXW','9J3O','7N4N','8JGG',\n",
    "        '8G8W','7RUG','7F1G','8J24','9J3N','9FZQ','4PJ9',\n",
    "        '7Y89','',\n",
    "    ]\n",
    "    print('this study exclude some pdb:', len(exclude))\n",
    "    \n",
    "    pdb_pool, n = [], 0\n",
    "    other_pdb = other['pdb_id'].dropna().unique()\n",
    "    for a in other_pdb:\n",
    "        if a in abag_pdb:\n",
    "            n += 1\n",
    "        else:\n",
    "            if a not in exclude:\n",
    "                pdb_pool.append(a)\n",
    "    print('not covered by this study:', len(pdb_pool), pdb_pool[:10])\n",
    "    print('intersection between this study and the other database:', n)\n",
    "    return pdb_pool\n",
    "\n",
    "def view_difference(pdb_pool):\n",
    "    # check if raw pdb files exist in this study. If so, print them\n",
    "    pdb_dir = '/home/yuan/data/pdb/rsync'\n",
    "    # pdb_dir = '/home/yuan/data/ftp.ebi.ac.uk'\n",
    "    raw_iter = Collect(pdb_dir).get_raw_pdb()\n",
    "    n = {}\n",
    "    for pdb_id, path in raw_iter:\n",
    "        if pdb_id in n:\n",
    "            print(pdb_id, n[pdb_id], path)\n",
    "        else:\n",
    "            n[pdb_id] = path\n",
    "        if pdb_id in pdb_pool:\n",
    "            p = ParseAbAg(path)\n",
    "            pprint(p.structure.header['compound'])\n",
    "            print('---'*10)\n",
    "    print(len(n))\n",
    "    \n",
    "    # export unpresented pdb for execute the pipeline again\n",
    "    print('unknown pdb:', len(pdb_pool))\n",
    "    n = 0\n",
    "    if pdb_pool:\n",
    "        with open('scripts/extra_pdb.txt', 'w') as f:\n",
    "            raw_iter = Collect(pdb_dir).get_raw_pdb()\n",
    "            for pdb_id, path in raw_iter:\n",
    "                if pdb_id in pdb_pool:\n",
    "                    # print(pdb_id, path)\n",
    "                    f.write(path + '\\n')\n",
    "                    n += 1\n",
    "    print(f'export pdb path ready for run.py: {n}')"
   ]
  },
  {
   "cell_type": "code",
   "execution_count": 283,
   "id": "831fa018-3bcc-48ef-8526-2e524ddce946",
   "metadata": {},
   "outputs": [
    {
     "name": "stdout",
     "output_type": "stream",
     "text": [
      "this study exclude some pdb: 44\n",
      "not covered by this study: 4014 ['1A3L', '1A3R', '1A6V', '1A6W', '1A8J', '1ADQ', '1AJ7', '1AXS', '1BAF', '1BFV']\n",
      "intersection between this study and the other database: 3586\n"
     ]
    }
   ],
   "source": [
    "# vs sabdab: get pdb files in this study \n",
    "pdb_pool = pdb_difference(sabdab)\n",
    "# view_difference(pdb_pool)"
   ]
  },
  {
   "cell_type": "code",
   "execution_count": null,
   "id": "5f852add-fa5c-42de-9331-598e3b26917a",
   "metadata": {},
   "outputs": [],
   "source": []
  },
  {
   "cell_type": "code",
   "execution_count": null,
   "id": "981543b8-0189-41bb-88c0-163838328232",
   "metadata": {},
   "outputs": [],
   "source": []
  },
  {
   "cell_type": "code",
   "execution_count": 70,
   "id": "aded80ed-a2b2-4d56-9614-2f77c75ce31b",
   "metadata": {},
   "outputs": [
    {
     "data": {
      "text/plain": [
       "['ig lambda']"
      ]
     },
     "execution_count": 70,
     "metadata": {},
     "output_type": "execute_result"
    }
   ],
   "source": [
    "import re\n",
    "re.findall(r'^ig (?:lambda|kappa|gamma)', 'ig lambda chain v-ii region mgc')"
   ]
  },
  {
   "cell_type": "code",
   "execution_count": null,
   "id": "64b9ca2d-5301-481c-9d29-3a0b23f79e52",
   "metadata": {},
   "outputs": [],
   "source": []
  },
  {
   "cell_type": "raw",
   "id": "705e09d7-3c1b-43dc-a8b1-b133782971a6",
   "metadata": {},
   "source": [
    "# for example: \n",
    "# X-ray diffraction data (PDBx/mmCIF)\n",
    "# https://files.wwpdb.org/pub/pdb/data/structures/divided/structure_factors/wh/r3whesf.ent.gz"
   ]
  },
  {
   "cell_type": "code",
   "execution_count": null,
   "id": "49e1069a-c062-46bf-9f0f-df6a5e0c4ab0",
   "metadata": {},
   "outputs": [],
   "source": []
  },
  {
   "cell_type": "markdown",
   "id": "c7a638ce-faa0-4e20-92fa-6f98eba3b4a1",
   "metadata": {},
   "source": [
    "### this study vs AACDB"
   ]
  },
  {
   "cell_type": "code",
   "execution_count": 363,
   "id": "d8fa2742-6737-4f19-8648-d5ce4e762153",
   "metadata": {},
   "outputs": [
    {
     "name": "stdout",
     "output_type": "stream",
     "text": [
      "not covered by this study: 47 ['4FQR', '5ACO', '5T3X', '6OT1', '6SS2', '6SS4', '6SS6', '6T9D', '6T9E', '6YAX']\n",
      "intersection between this study and aacdb: 3619\n"
     ]
    }
   ],
   "source": [
    "# check any pdb_ids which are not covered by the results of this study but in AACDB \n",
    "# reason: some structures havenot coordinate files\n",
    "from src.collect import Collect\n",
    "\n",
    "pdb_pool, n = [], 0\n",
    "for a in aacdb_pdb:\n",
    "    if a in abag_pdb:\n",
    "        n += 1\n",
    "    else:\n",
    "        if a not in exclude:\n",
    "            pdb_pool.append(a)\n",
    "print('not covered by this study:', len(pdb_pool), pdb_pool[:10])\n",
    "print('intersection between this study and aacdb:', n)"
   ]
  },
  {
   "cell_type": "code",
   "execution_count": 364,
   "id": "859d08ea-2f1e-4396-b252-6fc5d34928a2",
   "metadata": {},
   "outputs": [
    {
     "name": "stdout",
     "output_type": "stream",
     "text": [
      "226614\n",
      "unknown pdb: 47\n",
      "export pdb path ready for run.py: 0\n"
     ]
    }
   ],
   "source": [
    "# check if raw pdb files exist in this study. If so, print them\n",
    "from src.parse_abag import ParseAbAg\n",
    "\n",
    "pdb_dir = '/home/yuan/data/pdb/rsync'\n",
    "raw_iter = Collect(pdb_dir).get_raw_pdb()\n",
    "n = {}\n",
    "for pdb_id, path in raw_iter:\n",
    "    if pdb_id in n:\n",
    "        print(pdb_id, n[pdb_id], path)\n",
    "    else:\n",
    "        n[pdb_id] = path\n",
    "    if pdb_id in pdb_pool:\n",
    "        p = ParseAbAg(path)\n",
    "        pprint(p.structure.header['compound'])\n",
    "        print('---'*10)\n",
    "print(len(n))\n",
    "\n",
    "# export unpresented pdb for execute the pipeline again\n",
    "print('unknown pdb:', len(pdb_pool))\n",
    "n = 0\n",
    "if pdb_pool:\n",
    "    with open('scripts/extra_pdb.txt', 'w') as f:\n",
    "        raw_iter = Collect(pdb_dir).get_raw_pdb()\n",
    "        for pdb_id, path in raw_iter:\n",
    "            if pdb_id in pdb_pool:\n",
    "                # print(pdb_id, path)\n",
    "                f.write(path + '\\n')\n",
    "                n += 1\n",
    "print(f'export pdb path ready for run.py: {n}')"
   ]
  },
  {
   "cell_type": "code",
   "execution_count": 365,
   "id": "267522e5-9b8e-4e64-bfc5-e67051868272",
   "metadata": {},
   "outputs": [
    {
     "name": "stdout",
     "output_type": "stream",
     "text": [
      "unknown pdb: 47\n",
      "export pdb path ready for run.py: 0\n"
     ]
    }
   ],
   "source": [
    "# export unpresented pdb for execute the pipeline again\n",
    "print('unknown pdb:', len(pdb_pool))\n",
    "n = 0\n",
    "if pdb_pool:\n",
    "    with open('scripts/extra_pdb.txt', 'w') as f:\n",
    "        raw_iter = Collect(pdb_dir).get_raw_pdb()\n",
    "        for pdb_id, path in raw_iter:\n",
    "            if pdb_id in pdb_pool:\n",
    "                # print(pdb_id, path)\n",
    "                f.write(path + '\\n')\n",
    "                n += 1\n",
    "print(f'export pdb path ready for run.py: {n}')"
   ]
  },
  {
   "cell_type": "markdown",
   "id": "20b16729-4c42-4e70-926e-8c733f55ea5e",
   "metadata": {},
   "source": [
    "### confirm pdb that are not covered by other DB"
   ]
  },
  {
   "cell_type": "code",
   "execution_count": 22,
   "id": "0e8b7cb7-0a07-4afd-8fc9-8fdc00d059c6",
   "metadata": {},
   "outputs": [
    {
     "name": "stdout",
     "output_type": "stream",
     "text": [
      "4488 ['8P8A', '1DUY', '3QW7', '8UHS', '8YWX', '7W55', '7TXT', '8G8N', '3QTO', '2Y5F']\n"
     ]
    }
   ],
   "source": [
    "other_db = np.concatenate([sabdab_pdb, aacdb_pdb])\n",
    "abag_unique = list(set(abag_pdb).difference(set(other_db)))\n",
    "print(len(abag_unique), abag_unique[:10])"
   ]
  },
  {
   "cell_type": "code",
   "execution_count": null,
   "id": "19926664-50a2-42b6-999d-14d2e4a7d677",
   "metadata": {},
   "outputs": [],
   "source": []
  },
  {
   "cell_type": "code",
   "execution_count": 71,
   "id": "7c1a86d1-9c14-40c3-b34c-fcb288a76ed3",
   "metadata": {},
   "outputs": [
    {
     "name": "stdout",
     "output_type": "stream",
     "text": [
      "total raw: 4488\n",
      "complex type=antibody_antibody, num=1494\n",
      "complex type=heavy-light-antibody_antigen, num=1897\n",
      "complex type=other, num=366\n",
      "complex type=single-domain-antibody_antigen, num=731\n"
     ]
    }
   ],
   "source": [
    "# confirm complex only detected by this study in the json file \n",
    "from src.parse_abag import ParseAbAg\n",
    "import json\n",
    "from datetime import datetime\n",
    "\n",
    "n = 0\n",
    "res = {}\n",
    "pdb_dir = '/home/yuan/data/pdb/rsync'\n",
    "raw_iter = Collect(pdb_dir).filter_raw_pdb(abag_unique)\n",
    "for pdb_id, path in raw_iter:\n",
    "    n += 1\n",
    "    p = ParseAbAg(path, None, False)\n",
    "    p.filter_antibody_antigen(outputs_dir)\n",
    "    complex = p.complex\n",
    "    this_type = complex.get('complex_type', 'other')\n",
    "    if this_type not in res:\n",
    "        res[this_type] = []\n",
    "    res[this_type].append(complex)\n",
    "    # if n >=100:\n",
    "    #     break\n",
    "print(f'total raw: {n}')\n",
    "\n",
    "for _type, _data in res.items():\n",
    "    _data = sorted(_data, key=lambda x: datetime.strptime(x['release_date'], '%Y-%m-%d'), reverse=True)\n",
    "    outfile = f\"./data/check/{_type}.json\"\n",
    "    with open(outfile, 'w') as f:\n",
    "        json.dump(_data, f, indent=4)\n",
    "    print(f\"complex type={_type}, num={len(_data)}\")"
   ]
  },
  {
   "cell_type": "code",
   "execution_count": 59,
   "id": "7485f4ab-5146-435d-973d-b8bb7bc7fb3d",
   "metadata": {},
   "outputs": [
    {
     "data": {
      "text/plain": [
       "['2024-04-17',\n",
       " '2022-06-29',\n",
       " '2022-06-29',\n",
       " '2022-10-19',\n",
       " '2022-10-19',\n",
       " '2022-10-19',\n",
       " '2024-11-20',\n",
       " '2024-11-20']"
      ]
     },
     "execution_count": 59,
     "metadata": {},
     "output_type": "execute_result"
    }
   ],
   "source": [
    "[i['release_date'] for i in _data]"
   ]
  },
  {
   "cell_type": "code",
   "execution_count": null,
   "id": "a791df6d-2d3a-4425-ae9d-0657b4709dff",
   "metadata": {},
   "outputs": [],
   "source": []
  },
  {
   "cell_type": "code",
   "execution_count": 281,
   "id": "7779f2cc-502d-412d-916c-4067aeaec36d",
   "metadata": {},
   "outputs": [
    {
     "data": {
      "text/plain": [
       "['jla-g9']"
      ]
     },
     "execution_count": 281,
     "metadata": {},
     "output_type": "execute_result"
    }
   ],
   "source": [
    "import re\n",
    "pattern = '|'.join(['jl[a-z]-[a-z]\\d+', ])\n",
    "re.findall(pattern, 'maltose-bindmaing cproxxperiplasmicjla-g9 protein cia1d7 cia0')"
   ]
  },
  {
   "cell_type": "code",
   "execution_count": 179,
   "id": "a20ca06e-0c0b-44b6-8448-a6f01f51bac7",
   "metadata": {},
   "outputs": [
    {
     "name": "stdout",
     "output_type": "stream",
     "text": [
      "(50300, 6)\n",
      "(14148, 6)\n",
      "(20735, 6)\n"
     ]
    }
   ],
   "source": [
    "cols = ['pdb_id', 'chain_id']\n",
    "abag_sabdab1 = pd.merge(abag_chains, sabdab, on=cols, how='left')\n",
    "print(abag_sabdab1.shape)\n",
    "abag_sabdab2 = pd.merge(abag_chains, sabdab, on=cols, how='inner')\n",
    "print(abag_sabdab2.shape)\n",
    "abag_sabdab3 = pd.merge(abag_chains, sabdab, on=cols, how='right')\n",
    "print(abag_sabdab3.shape)"
   ]
  },
  {
   "cell_type": "code",
   "execution_count": 180,
   "id": "0df0c83a-dab7-465c-8f2c-4e1a7e618f0d",
   "metadata": {},
   "outputs": [
    {
     "data": {
      "text/html": [
       "<div>\n",
       "<style scoped>\n",
       "    .dataframe tbody tr th:only-of-type {\n",
       "        vertical-align: middle;\n",
       "    }\n",
       "\n",
       "    .dataframe tbody tr th {\n",
       "        vertical-align: top;\n",
       "    }\n",
       "\n",
       "    .dataframe thead th {\n",
       "        text-align: right;\n",
       "    }\n",
       "</style>\n",
       "<table border=\"1\" class=\"dataframe\">\n",
       "  <thead>\n",
       "    <tr style=\"text-align: right;\">\n",
       "      <th></th>\n",
       "      <th>pdb_id</th>\n",
       "      <th>model_x</th>\n",
       "      <th>chain_id</th>\n",
       "      <th>chain_type_x</th>\n",
       "      <th>model_y</th>\n",
       "      <th>chain_type_y</th>\n",
       "    </tr>\n",
       "  </thead>\n",
       "  <tbody>\n",
       "    <tr>\n",
       "      <th>0</th>\n",
       "      <td>1A14</td>\n",
       "      <td>0.0</td>\n",
       "      <td>H</td>\n",
       "      <td>heavy</td>\n",
       "      <td>0</td>\n",
       "      <td>heavy</td>\n",
       "    </tr>\n",
       "    <tr>\n",
       "      <th>1</th>\n",
       "      <td>1A14</td>\n",
       "      <td>0.0</td>\n",
       "      <td>L</td>\n",
       "      <td>light</td>\n",
       "      <td>0</td>\n",
       "      <td>light</td>\n",
       "    </tr>\n",
       "    <tr>\n",
       "      <th>2</th>\n",
       "      <td>1A14</td>\n",
       "      <td>0.0</td>\n",
       "      <td>N</td>\n",
       "      <td>receptor</td>\n",
       "      <td>0</td>\n",
       "      <td>receptor</td>\n",
       "    </tr>\n",
       "    <tr>\n",
       "      <th>3</th>\n",
       "      <td>1A2Y</td>\n",
       "      <td>0.0</td>\n",
       "      <td>A</td>\n",
       "      <td>light</td>\n",
       "      <td>0</td>\n",
       "      <td>light</td>\n",
       "    </tr>\n",
       "    <tr>\n",
       "      <th>4</th>\n",
       "      <td>1A2Y</td>\n",
       "      <td>0.0</td>\n",
       "      <td>B</td>\n",
       "      <td>heavy</td>\n",
       "      <td>0</td>\n",
       "      <td>heavy</td>\n",
       "    </tr>\n",
       "    <tr>\n",
       "      <th>...</th>\n",
       "      <td>...</td>\n",
       "      <td>...</td>\n",
       "      <td>...</td>\n",
       "      <td>...</td>\n",
       "      <td>...</td>\n",
       "      <td>...</td>\n",
       "    </tr>\n",
       "    <tr>\n",
       "      <th>20730</th>\n",
       "      <td>NaN</td>\n",
       "      <td>NaN</td>\n",
       "      <td>L</td>\n",
       "      <td>NaN</td>\n",
       "      <td>0</td>\n",
       "      <td>receptor</td>\n",
       "    </tr>\n",
       "    <tr>\n",
       "      <th>20731</th>\n",
       "      <td>NaN</td>\n",
       "      <td>NaN</td>\n",
       "      <td>N</td>\n",
       "      <td>NaN</td>\n",
       "      <td>0</td>\n",
       "      <td>heavy</td>\n",
       "    </tr>\n",
       "    <tr>\n",
       "      <th>20732</th>\n",
       "      <td>NaN</td>\n",
       "      <td>NaN</td>\n",
       "      <td>N</td>\n",
       "      <td>NaN</td>\n",
       "      <td>0</td>\n",
       "      <td>receptor</td>\n",
       "    </tr>\n",
       "    <tr>\n",
       "      <th>20733</th>\n",
       "      <td>NaN</td>\n",
       "      <td>NaN</td>\n",
       "      <td>P</td>\n",
       "      <td>NaN</td>\n",
       "      <td>0</td>\n",
       "      <td>receptor</td>\n",
       "    </tr>\n",
       "    <tr>\n",
       "      <th>20734</th>\n",
       "      <td>NaN</td>\n",
       "      <td>NaN</td>\n",
       "      <td>e</td>\n",
       "      <td>NaN</td>\n",
       "      <td>0</td>\n",
       "      <td>light</td>\n",
       "    </tr>\n",
       "  </tbody>\n",
       "</table>\n",
       "<p>20735 rows × 6 columns</p>\n",
       "</div>"
      ],
      "text/plain": [
       "      pdb_id  model_x chain_id chain_type_x  model_y chain_type_y\n",
       "0       1A14      0.0        H        heavy        0        heavy\n",
       "1       1A14      0.0        L        light        0        light\n",
       "2       1A14      0.0        N     receptor        0     receptor\n",
       "3       1A2Y      0.0        A        light        0        light\n",
       "4       1A2Y      0.0        B        heavy        0        heavy\n",
       "...      ...      ...      ...          ...      ...          ...\n",
       "20730    NaN      NaN        L          NaN        0     receptor\n",
       "20731    NaN      NaN        N          NaN        0        heavy\n",
       "20732    NaN      NaN        N          NaN        0     receptor\n",
       "20733    NaN      NaN        P          NaN        0     receptor\n",
       "20734    NaN      NaN        e          NaN        0        light\n",
       "\n",
       "[20735 rows x 6 columns]"
      ]
     },
     "execution_count": 180,
     "metadata": {},
     "output_type": "execute_result"
    }
   ],
   "source": [
    "abag_sabdab3"
   ]
  },
  {
   "cell_type": "code",
   "execution_count": 128,
   "id": "552e83d3-e917-4afd-9f4f-823bc692b1be",
   "metadata": {},
   "outputs": [
    {
     "data": {
      "text/html": [
       "<div>\n",
       "<style scoped>\n",
       "    .dataframe tbody tr th:only-of-type {\n",
       "        vertical-align: middle;\n",
       "    }\n",
       "\n",
       "    .dataframe tbody tr th {\n",
       "        vertical-align: top;\n",
       "    }\n",
       "\n",
       "    .dataframe thead th {\n",
       "        text-align: right;\n",
       "    }\n",
       "</style>\n",
       "<table border=\"1\" class=\"dataframe\">\n",
       "  <thead>\n",
       "    <tr style=\"text-align: right;\">\n",
       "      <th></th>\n",
       "      <th>pdb_id</th>\n",
       "      <th>model</th>\n",
       "      <th>chain_id</th>\n",
       "      <th>chain_type</th>\n",
       "    </tr>\n",
       "  </thead>\n",
       "  <tbody>\n",
       "  </tbody>\n",
       "</table>\n",
       "</div>"
      ],
      "text/plain": [
       "Empty DataFrame\n",
       "Columns: [pdb_id, model, chain_id, chain_type]\n",
       "Index: []"
      ]
     },
     "execution_count": 128,
     "metadata": {},
     "output_type": "execute_result"
    }
   ],
   "source": [
    "sabdab_chains[sabdab_chains['pdb_id']=='9FGS']"
   ]
  },
  {
   "cell_type": "code",
   "execution_count": null,
   "id": "62aae2e1-febb-42dd-9dd4-1ca67e45987e",
   "metadata": {},
   "outputs": [],
   "source": []
  },
  {
   "cell_type": "code",
   "execution_count": null,
   "id": "27ca515a-c60a-4a46-96f0-213b27095e60",
   "metadata": {},
   "outputs": [],
   "source": []
  }
 ],
 "metadata": {
  "kernelspec": {
   "display_name": "Python 3 (ipykernel)",
   "language": "python",
   "name": "python3"
  },
  "language_info": {
   "codemirror_mode": {
    "name": "ipython",
    "version": 3
   },
   "file_extension": ".py",
   "mimetype": "text/x-python",
   "name": "python",
   "nbconvert_exporter": "python",
   "pygments_lexer": "ipython3",
   "version": "3.10.17"
  }
 },
 "nbformat": 4,
 "nbformat_minor": 5
}
