{
 "cells": [
  {
   "cell_type": "code",
   "execution_count": null,
   "id": "18e061a3-d246-42b3-afa5-3668980e8a88",
   "metadata": {},
   "outputs": [],
   "source": [
    "conda activate openfold-env"
   ]
  },
  {
   "cell_type": "code",
   "execution_count": 2,
   "id": "22feae6b-59a9-4efa-b610-5c6ba4bf7b0f",
   "metadata": {},
   "outputs": [],
   "source": [
    "import os\n",
    "import re\n",
    "import sys\n",
    "import numpy as np\n",
    "import pandas as pd\n",
    "import matplotlib.pyplot as plt\n",
    "import seaborn as sns\n",
    "from pprint import pprint"
   ]
  },
  {
   "cell_type": "code",
   "execution_count": 32,
   "id": "47dc27f4-d373-4d94-801d-e8ec4c90a8b0",
   "metadata": {},
   "outputs": [
    {
     "name": "stdout",
     "output_type": "stream",
     "text": [
      "The autoreload extension is already loaded. To reload it, use:\n",
      "  %reload_ext autoreload\n",
      "project direcotry is  /home/yuan/bio\n",
      "['/home/yuan/anaconda3/envs/openfold-env/lib/python310.zip', '/home/yuan/anaconda3/envs/openfold-env/lib/python3.10', '/home/yuan/anaconda3/envs/openfold-env/lib/python3.10/lib-dynload', '', '/home/yuan/anaconda3/envs/openfold-env/lib/python3.10/site-packages', '/home/yuan/anaconda3/envs/openfold-env/lib/python3.10/site-packages/openfold-2.2.0-py3.10-linux-x86_64.egg', '/home/yuan/bio']\n"
     ]
    }
   ],
   "source": [
    "%load_ext autoreload\n",
    "%autoreload 2 \n",
    "\n",
    "project_dir = os.path.dirname(os.getcwd())\n",
    "print('project direcotry is ', project_dir)\n",
    "if project_dir not in sys.path:\n",
    "    sys.path.append(project_dir)\n",
    "print(sys.path)\n",
    "\n",
    "#\n",
    "pdb_dir = '/home/yuan/data/pdb/rsync'\n",
    "data_dir = './data/'\n",
    "outputs_dir = '/home/yuan/output/pdb_abag'\n",
    "\n",
    "from src.db_build import DbBuild\n",
    "from src.db_query import DbQuery\n",
    "from src.db_update import DbUpdate"
   ]
  },
  {
   "cell_type": "code",
   "execution_count": null,
   "id": "6180e329-e182-46a0-af78-b3dff92b6a9a",
   "metadata": {},
   "outputs": [],
   "source": []
  },
  {
   "cell_type": "markdown",
   "id": "03232825-c8c1-4c8b-9ebe-c8c0178bfcbc",
   "metadata": {},
   "source": [
    "## 1. label data for abag"
   ]
  },
  {
   "cell_type": "markdown",
   "id": "31d2c111-d781-4ca6-93b3-ab60f37c78b5",
   "metadata": {},
   "source": [
    "### 1.1 by heavy/Light"
   ]
  },
  {
   "cell_type": "code",
   "execution_count": 252,
   "id": "ab387973-8366-46b6-a047-752d0b758fa8",
   "metadata": {},
   "outputs": [
    {
     "name": "stdout",
     "output_type": "stream",
     "text": [
      "(14053, 8)\n"
     ]
    }
   ],
   "source": [
    "query = \"\"\"\n",
    "    select A.chain, A.compound_no, A.pdb_id, A.chain_type, A.fragment, A.compound_text, B.name, B.pdb_url\n",
    "    from compound A, pdb B\n",
    "    where A.pdb_id = B.pdb_id \n",
    "        AND A.pdb_id IN (\n",
    "            select distinct pdb_id\n",
    "            from compound\n",
    "            where chain_type REGEXP \"heavy|light\"\n",
    "        )\n",
    "    order by A.pdb_id, compound_no;\n",
    "\"\"\"\n",
    "df = DbQuery().list_data(query, True)\n",
    "outfile = os.path.join(data_dir, 'abag_HL.xlsx')\n",
    "df.to_excel(outfile, index=False)"
   ]
  },
  {
   "cell_type": "code",
   "execution_count": 266,
   "id": "48e0d425-19e6-4fae-8b2d-23d39b5a22e2",
   "metadata": {},
   "outputs": [],
   "source": [
    "# verify again\n",
    "infile = os.path.join(data_dir, 'abag_HL.xlsx')\n",
    "xls_file = pd.ExcelFile(infile)\n",
    "df = xls_file.parse('Sheet1')\n",
    "for name, sub in df.groupby('pdb_id'):\n",
    "    chain_types = list(sub['chain_type'])\n",
    "    if 'heavy' not in chain_types and 'light' not in chain_types and 'single' not in chain_types:\n",
    "        print(name, chain_types)\n",
    "    elif 'x' in chain_types:\n",
    "        print(name, chain_types)"
   ]
  },
  {
   "cell_type": "code",
   "execution_count": 272,
   "id": "41894f06-3673-4623-b975-91380794f724",
   "metadata": {},
   "outputs": [
    {
     "data": {
      "text/html": [
       "<div>\n",
       "<style scoped>\n",
       "    .dataframe tbody tr th:only-of-type {\n",
       "        vertical-align: middle;\n",
       "    }\n",
       "\n",
       "    .dataframe tbody tr th {\n",
       "        vertical-align: top;\n",
       "    }\n",
       "\n",
       "    .dataframe thead th {\n",
       "        text-align: right;\n",
       "    }\n",
       "</style>\n",
       "<table border=\"1\" class=\"dataframe\">\n",
       "  <thead>\n",
       "    <tr style=\"text-align: right;\">\n",
       "      <th></th>\n",
       "      <th>chain</th>\n",
       "      <th>compound_no</th>\n",
       "      <th>pdb_id</th>\n",
       "      <th>chain_type</th>\n",
       "      <th>fragment</th>\n",
       "      <th>compound_text</th>\n",
       "      <th>name</th>\n",
       "      <th>pdb_url</th>\n",
       "    </tr>\n",
       "  </thead>\n",
       "  <tbody>\n",
       "    <tr>\n",
       "      <th>0</th>\n",
       "      <td>l,m</td>\n",
       "      <td>1</td>\n",
       "      <td>12E8</td>\n",
       "      <td>light</td>\n",
       "      <td>fab</td>\n",
       "      <td>molecule: igg1-kappa 2e8 fab (light chain) ; f...</td>\n",
       "      <td>2e8 fab fragment</td>\n",
       "      <td>https://www.rcsb.org/structure/12E8</td>\n",
       "    </tr>\n",
       "    <tr>\n",
       "      <th>1</th>\n",
       "      <td>h,p</td>\n",
       "      <td>2</td>\n",
       "      <td>12E8</td>\n",
       "      <td>heavy</td>\n",
       "      <td>fab</td>\n",
       "      <td>molecule: igg1-kappa 2e8 fab (heavy chain) ; f...</td>\n",
       "      <td>2e8 fab fragment</td>\n",
       "      <td>https://www.rcsb.org/structure/12E8</td>\n",
       "    </tr>\n",
       "    <tr>\n",
       "      <th>2</th>\n",
       "      <td>l</td>\n",
       "      <td>1</td>\n",
       "      <td>15C8</td>\n",
       "      <td>light</td>\n",
       "      <td>fab</td>\n",
       "      <td>molecule: igg 5c8 fab (light chain) ; fragment...</td>\n",
       "      <td>catalytic antibody 5c8, free fab</td>\n",
       "      <td>https://www.rcsb.org/structure/15C8</td>\n",
       "    </tr>\n",
       "    <tr>\n",
       "      <th>3</th>\n",
       "      <td>h</td>\n",
       "      <td>2</td>\n",
       "      <td>15C8</td>\n",
       "      <td>heavy</td>\n",
       "      <td>fab</td>\n",
       "      <td>molecule: igg 5c8 fab (heavy chain) ; fragment...</td>\n",
       "      <td>catalytic antibody 5c8, free fab</td>\n",
       "      <td>https://www.rcsb.org/structure/15C8</td>\n",
       "    </tr>\n",
       "    <tr>\n",
       "      <th>4</th>\n",
       "      <td>l</td>\n",
       "      <td>1</td>\n",
       "      <td>1A0Q</td>\n",
       "      <td>light</td>\n",
       "      <td>fab</td>\n",
       "      <td>molecule: 29g11 fab (light chain) ; fragment: ...</td>\n",
       "      <td>29g11 complexed with phenyl [1-(1-n-succinylam...</td>\n",
       "      <td>https://www.rcsb.org/structure/1A0Q</td>\n",
       "    </tr>\n",
       "  </tbody>\n",
       "</table>\n",
       "</div>"
      ],
      "text/plain": [
       "  chain  compound_no pdb_id chain_type fragment  \\\n",
       "0   l,m            1   12E8      light      fab   \n",
       "1   h,p            2   12E8      heavy      fab   \n",
       "2     l            1   15C8      light      fab   \n",
       "3     h            2   15C8      heavy      fab   \n",
       "4     l            1   1A0Q      light      fab   \n",
       "\n",
       "                                       compound_text  \\\n",
       "0  molecule: igg1-kappa 2e8 fab (light chain) ; f...   \n",
       "1  molecule: igg1-kappa 2e8 fab (heavy chain) ; f...   \n",
       "2  molecule: igg 5c8 fab (light chain) ; fragment...   \n",
       "3  molecule: igg 5c8 fab (heavy chain) ; fragment...   \n",
       "4  molecule: 29g11 fab (light chain) ; fragment: ...   \n",
       "\n",
       "                                                name  \\\n",
       "0                                   2e8 fab fragment   \n",
       "1                                   2e8 fab fragment   \n",
       "2                   catalytic antibody 5c8, free fab   \n",
       "3                   catalytic antibody 5c8, free fab   \n",
       "4  29g11 complexed with phenyl [1-(1-n-succinylam...   \n",
       "\n",
       "                               pdb_url  \n",
       "0  https://www.rcsb.org/structure/12E8  \n",
       "1  https://www.rcsb.org/structure/12E8  \n",
       "2  https://www.rcsb.org/structure/15C8  \n",
       "3  https://www.rcsb.org/structure/15C8  \n",
       "4  https://www.rcsb.org/structure/1A0Q  "
      ]
     },
     "execution_count": 272,
     "metadata": {},
     "output_type": "execute_result"
    }
   ],
   "source": [
    "# update compount.chain_type\n",
    "infile = os.path.join(data_dir, 'label', 'abag_HL.xlsx')\n",
    "xls_file = pd.ExcelFile(infile)\n",
    "table = xls_file.parse('Sheet1')\n",
    "table.head()"
   ]
  },
  {
   "cell_type": "code",
   "execution_count": 299,
   "id": "0b3e8250-6592-4e01-9898-05e0776521fb",
   "metadata": {},
   "outputs": [
    {
     "name": "stdout",
     "output_type": "stream",
     "text": [
      "table abag: succeed=21148, unchanged=1\n"
     ]
    }
   ],
   "source": [
    "# insert data into table abag\n",
    "from src.db_build import DbBuild\n",
    "DbBuild(table).insert_abag()"
   ]
  },
  {
   "cell_type": "code",
   "execution_count": 300,
   "id": "1ef44fee-07f1-42ff-a07f-281d34a8c13b",
   "metadata": {},
   "outputs": [
    {
     "name": "stdout",
     "output_type": "stream",
     "text": [
      "abag.chain_type: succeed=0, unchanged=21149\n",
      "abag.fragment: succeed=0, unchanged=21149\n"
     ]
    }
   ],
   "source": [
    "# update data\n",
    "DbQuery().update_compound_table('abag', 'chain_type', table)\n",
    "DbQuery().update_compound_table('abag', 'fragment', table)"
   ]
  },
  {
   "cell_type": "code",
   "execution_count": 303,
   "id": "eca33b67-ea9a-43f6-9638-ca0ce6d913af",
   "metadata": {},
   "outputs": [
    {
     "name": "stdout",
     "output_type": "stream",
     "text": [
      "(6818, 2)\n",
      "table complex: succeed=0, unchanged=6818\n"
     ]
    }
   ],
   "source": [
    "# update table complex\n",
    "table['complex_type'] = 'abag'\n",
    "DbBuild(table).insert_complex()"
   ]
  },
  {
   "cell_type": "markdown",
   "id": "c64baad4-2745-4e3f-b98d-e19064a3797a",
   "metadata": {},
   "source": [
    "### 1.2 by single"
   ]
  },
  {
   "cell_type": "code",
   "execution_count": 306,
   "id": "0456eb11-b07a-452a-9718-3a7be85e212a",
   "metadata": {},
   "outputs": [
    {
     "name": "stdout",
     "output_type": "stream",
     "text": [
      "(8695, 8)\n"
     ]
    }
   ],
   "source": [
    "query = \"\"\"\n",
    "    select A.chain, A.compound_no, A.pdb_id, A.chain_type, A.fragment, A.compound_text, B.pdb_url\n",
    "    from compound A, pdb B\n",
    "    where A.pdb_id = B.pdb_id \n",
    "        AND A.pdb_id IN (\n",
    "            select distinct pdb_id\n",
    "            from compound\n",
    "            where chain_type = \"single\"\n",
    "        )\n",
    "    order by A.pdb_id, compound_no;\n",
    "\"\"\"\n",
    "df = DbQuery().list_data(query, True)\n",
    "print(df.shape)\n",
    "outfile = os.path.join(data_dir, 'abag_single.xlsx')\n",
    "df.to_excel(outfile, index=False)"
   ]
  },
  {
   "cell_type": "code",
   "execution_count": 317,
   "id": "cb6da8b5-dbd4-46e9-ae94-53ed7309d477",
   "metadata": {},
   "outputs": [],
   "source": [
    "# verify again\n",
    "infile = os.path.join(data_dir, 'abag_single.xlsx')\n",
    "xls_file = pd.ExcelFile(infile)\n",
    "df = xls_file.parse('Sheet1')\n",
    "for name, sub in df.groupby('pdb_id'):\n",
    "    chain_types = list(sub['chain_type'])\n",
    "    if ('heavy' not in chain_types) and ('light' not in chain_types) and ('single' not in chain_types):\n",
    "        print(name, chain_types)\n",
    "    elif 'x' in chain_types:\n",
    "        print(name, chain_types)"
   ]
  },
  {
   "cell_type": "code",
   "execution_count": 318,
   "id": "56ac18e5-a333-484e-8981-f92512518d10",
   "metadata": {},
   "outputs": [
    {
     "name": "stdout",
     "output_type": "stream",
     "text": [
      "table abag: succeed=8162, unchanged=466\n",
      "abag.chain_type: succeed=1, unchanged=8627\n",
      "abag.fragment: succeed=3, unchanged=8625\n",
      "table complex: succeed=2419, unchanged=109\n"
     ]
    }
   ],
   "source": [
    "# update compount.chain_type\n",
    "infile = os.path.join(data_dir, 'label', 'abag_single.xlsx')\n",
    "xls_file = pd.ExcelFile(infile)\n",
    "table = xls_file.parse('Sheet1')\n",
    "\n",
    "# insert data into table abag\n",
    "from src.db_build import DbBuild\n",
    "DbBuild(table).insert_abag()\n",
    "\n",
    "# update table abag\n",
    "DbQuery().update_compound_table('abag', 'chain_type', table)\n",
    "DbQuery().update_compound_table('abag', 'fragment', table)"
   ]
  },
  {
   "cell_type": "code",
   "execution_count": null,
   "id": "86e4829d-7102-4a31-99be-1feb6c7d22b9",
   "metadata": {},
   "outputs": [],
   "source": [
    "# insert into table complex\n",
    "table['complex_type'] = 'abag'\n",
    "DbBuild(table).insert_complex()"
   ]
  },
  {
   "cell_type": "code",
   "execution_count": null,
   "id": "17e8b280-cbf4-4d9e-9d2b-cb2eadf80fef",
   "metadata": {},
   "outputs": [],
   "source": []
  },
  {
   "cell_type": "markdown",
   "id": "7f3eccc0-39c4-460b-8e01-3d996b602cb0",
   "metadata": {},
   "source": [
    "### 1.3 cross validate labelling"
   ]
  },
  {
   "cell_type": "code",
   "execution_count": 53,
   "id": "06ae1df6-ec40-4fbc-b41f-1c40d2d5d418",
   "metadata": {},
   "outputs": [
    {
     "name": "stdout",
     "output_type": "stream",
     "text": [
      "(662, 8)\n"
     ]
    }
   ],
   "source": [
    "from src.db_query import DbQuery\n",
    "\n",
    "query = \"\"\"\n",
    "    select A.chain, A.compound_no, A.pdb_id, A.chain_type, A.fragment, A.compound_text, B.name, B.pdb_url\n",
    "    from compound A, pdb B\n",
    "    where A.pdb_id = B.pdb_id \n",
    "        AND B.pdb_id IN (\n",
    "            select distinct pdb_id from compound\n",
    "            where compound_text LIKE \"%fragment%\"\n",
    "                AND compound_text REGEXP \"fab|vh|fc|fv\"\n",
    "            except\n",
    "            select distinct pdb_id from abag\n",
    "        )\n",
    "    order by A.pdb_id, A.compound_no;\n",
    "\"\"\"\n",
    "df = DbQuery().list_data(query, True)\n",
    "print(df.shape)\n",
    "\n",
    "outfile = os.path.join(data_dir, 'fragment_fab.xlsx')\n",
    "df.to_excel(outfile, index=False)"
   ]
  },
  {
   "cell_type": "code",
   "execution_count": 54,
   "id": "33fc7988-3f69-40f2-813b-8a7f82eaf72e",
   "metadata": {},
   "outputs": [
    {
     "name": "stdout",
     "output_type": "stream",
     "text": [
      "table abag: total=134, succeed=134, unchanged=0\n",
      "table complex: total=73, succeed=73, unchanged=0\n"
     ]
    }
   ],
   "source": [
    "# update compount.chain_type\n",
    "infile = os.path.join(data_dir, 'label', 'fragment_fab.xlsx')\n",
    "xls_file = pd.ExcelFile(infile)\n",
    "table = xls_file.parse('Sheet1')\n",
    "\n",
    "# insert data into table abag\n",
    "DbBuild(table).insert_abag()\n",
    "\n",
    "# insert into table complex\n",
    "table['complex_type'] = 'abag'\n",
    "DbBuild(table).insert_complex()"
   ]
  },
  {
   "cell_type": "code",
   "execution_count": 56,
   "id": "dee64213-cc3c-4381-8972-c5c822662bc7",
   "metadata": {},
   "outputs": [
    {
     "name": "stdout",
     "output_type": "stream",
     "text": [
      "(735, 8)\n"
     ]
    }
   ],
   "source": [
    "query = \"\"\"\n",
    "    select A.chain, A.compound_no, A.pdb_id, A.chain_type, A.fragment, A.compound_text, B.name, B.pdb_url\n",
    "    from compound A, pdb B\n",
    "    where A.pdb_id = B.pdb_id \n",
    "        AND B.pdb_id IN (\n",
    "            select distinct pdb_id from compound\n",
    "            where B.name REGEXP \"[anti|dia|sy|intro|intra|mega|repe|nano|nono|promacro]body|nanobodies|nanoboy\"\n",
    "            except\n",
    "            select distinct pdb_id from abag\n",
    "        )\n",
    "    order by A.pdb_id, A.compound_no;\n",
    "\"\"\"\n",
    "df = DbQuery().list_data(query, True)\n",
    "df['fragment'] = 'fv'\n",
    "print(df.shape)\n",
    "\n",
    "outfile = os.path.join(data_dir, 'fragment_-body.xlsx')\n",
    "df.to_excel(outfile, index=False)"
   ]
  },
  {
   "cell_type": "code",
   "execution_count": 57,
   "id": "6df8ec46-3c14-460a-9329-de2deac7d911",
   "metadata": {},
   "outputs": [
    {
     "name": "stdout",
     "output_type": "stream",
     "text": [
      "table abag: total=504, succeed=504, unchanged=0\n",
      "table complex: total=228, succeed=228, unchanged=0\n"
     ]
    }
   ],
   "source": [
    "# update compount.chain_type\n",
    "infile = os.path.join(data_dir, 'label', 'fragment_-body.xlsx')\n",
    "xls_file = pd.ExcelFile(infile)\n",
    "table = xls_file.parse('Sheet1')\n",
    "\n",
    "# insert data into table abag\n",
    "DbBuild(table).insert_abag()\n",
    "\n",
    "# insert into table complex\n",
    "table['complex_type'] = 'abag'\n",
    "DbBuild(table).insert_complex()"
   ]
  },
  {
   "cell_type": "code",
   "execution_count": 60,
   "id": "09d0b2f3-de7e-4a27-b014-532ad5f65d8d",
   "metadata": {},
   "outputs": [
    {
     "name": "stdout",
     "output_type": "stream",
     "text": [
      "(2826, 8)\n"
     ]
    }
   ],
   "source": [
    "query = \"\"\"\n",
    "    select A.chain, A.compound_no, A.pdb_id, A.chain_type, A.fragment, A.compound_text, B.name, B.pdb_url\n",
    "    from compound A, pdb B\n",
    "    where A.pdb_id = B.pdb_id \n",
    "        AND B.pdb_id IN (\n",
    "            select distinct pdb_id from compound\n",
    "            where compound_text REGEXP \"igg |igh |immuno\"\n",
    "            except\n",
    "            select distinct pdb_id from abag\n",
    "        )\n",
    "    order by A.pdb_id, A.compound_no;\n",
    "\"\"\"\n",
    "df = DbQuery().list_data(query, True)\n",
    "print(df.shape)\n",
    "\n",
    "outfile = os.path.join(data_dir, 'fragment_igg.xlsx')\n",
    "df.to_excel(outfile, index=False)"
   ]
  },
  {
   "cell_type": "code",
   "execution_count": 61,
   "id": "16f46dc9-0c41-47c7-b595-93796b79f62a",
   "metadata": {},
   "outputs": [
    {
     "name": "stdout",
     "output_type": "stream",
     "text": [
      "table abag: total=33, succeed=33, unchanged=0\n",
      "table complex: total=17, succeed=17, unchanged=0\n"
     ]
    }
   ],
   "source": [
    "# update compount.chain_type\n",
    "infile = os.path.join(data_dir, 'label', 'fragment_igg.xlsx')\n",
    "xls_file = pd.ExcelFile(infile)\n",
    "table = xls_file.parse('Sheet1')\n",
    "\n",
    "# insert data into table abag\n",
    "DbBuild(table).insert_abag()\n",
    "\n",
    "# insert into table complex\n",
    "table['complex_type'] = 'abag'\n",
    "DbBuild(table).insert_complex()"
   ]
  },
  {
   "cell_type": "markdown",
   "id": "d0ae0d13-c1e1-47c5-b10c-978a7cfb70fc",
   "metadata": {},
   "source": [
    "## 3. Compared with other database"
   ]
  },
  {
   "cell_type": "markdown",
   "id": "83c0e30d-466e-4d47-b269-40014394a1dd",
   "metadata": {},
   "source": [
    "### 3.1 compared with AACDB"
   ]
  },
  {
   "cell_type": "code",
   "execution_count": 76,
   "id": "56ea0465-b900-4392-a4eb-0172d625bf6c",
   "metadata": {},
   "outputs": [
    {
     "name": "stdout",
     "output_type": "stream",
     "text": [
      "(90, 8)\n"
     ]
    }
   ],
   "source": [
    "# retrieve abag: heavy/light chains\n",
    "# create table diff as (select distinct pdb_id from aacdb except select distinct pdb_id from abag);\n",
    "query = \"\"\"\n",
    "    select A.chain, A.compound_no, A.pdb_id, A.chain_type, A.fragment, A.compound_text, B.name, B.pdb_url\n",
    "    from compound A, pdb B\n",
    "    where A.pdb_id IN (\n",
    "            SELECT pdb_id from diff\n",
    "        ) AND A.pdb_id = B.pdb_id\n",
    "    order by A.pdb_id, A.compound_no;\n",
    "\"\"\"\n",
    "df = DbQuery().list_data(query, True)\n",
    "print(df.shape)\n",
    "\n",
    "outfile = os.path.join(data_dir, 'diff_aacdb.xlsx')\n",
    "df.to_excel(outfile, index=False)"
   ]
  },
  {
   "cell_type": "code",
   "execution_count": 77,
   "id": "77a0c6ba-af29-4dc1-b83b-947662a52833",
   "metadata": {},
   "outputs": [
    {
     "name": "stdout",
     "output_type": "stream",
     "text": [
      "table abag: total=77, succeed=77, unchanged=0\n",
      "table complex: total=28, succeed=28, unchanged=0\n"
     ]
    }
   ],
   "source": [
    "# update compount.chain_type\n",
    "infile = os.path.join(data_dir, 'label', 'diff_aacdb.xlsx')\n",
    "xls_file = pd.ExcelFile(infile)\n",
    "table = xls_file.parse('Sheet1')\n",
    "\n",
    "# insert data into table abag\n",
    "DbBuild(table).insert_abag()\n",
    "\n",
    "# insert into table complex\n",
    "table['complex_type'] = 'abag'\n",
    "DbBuild(table).insert_complex()"
   ]
  },
  {
   "cell_type": "code",
   "execution_count": null,
   "id": "21945c4a-4038-43e6-8c54-69b98207c016",
   "metadata": {},
   "outputs": [],
   "source": []
  },
  {
   "cell_type": "markdown",
   "id": "1309f837-40ef-4f23-8209-829ed38c015c",
   "metadata": {},
   "source": [
    "### 3.2 compared with IEDB"
   ]
  },
  {
   "cell_type": "code",
   "execution_count": 79,
   "id": "f4d310a4-6350-4630-a1f4-529d27421275",
   "metadata": {},
   "outputs": [
    {
     "name": "stdout",
     "output_type": "stream",
     "text": [
      "(5441, 8)\n"
     ]
    }
   ],
   "source": [
    "# retrieve abag: heavy/light chains\n",
    "# create table diff as (select distinct pdb_id from iedb except select distinct pdb_id from abag);\n",
    "query = \"\"\"\n",
    "    select A.chain, A.compound_no, A.pdb_id, A.chain_type, A.fragment, A.compound_text, B.name, B.pdb_url\n",
    "    from compound A, pdb B\n",
    "    where A.pdb_id IN (\n",
    "            SELECT pdb_id from diff\n",
    "        ) AND A.pdb_id = B.pdb_id\n",
    "    order by A.pdb_id, A.compound_no;\n",
    "\"\"\"\n",
    "df = DbQuery().list_data(query, True)\n",
    "df['chain_type'] = None\n",
    "df['fragment'] = None\n",
    "print(df.shape)\n",
    "\n",
    "outfile = os.path.join(data_dir, 'diff_iedb.xlsx')\n",
    "df.to_excel(outfile, index=False)"
   ]
  },
  {
   "cell_type": "code",
   "execution_count": 80,
   "id": "7ca6544e-fb2b-4fad-bf35-a67ae5dc9f0d",
   "metadata": {},
   "outputs": [
    {
     "name": "stdout",
     "output_type": "stream",
     "text": [
      "table abag: total=124, succeed=124, unchanged=0\n",
      "table complex: total=38, succeed=38, unchanged=0\n"
     ]
    }
   ],
   "source": [
    "# update compount.chain_type\n",
    "infile = os.path.join(data_dir, 'label', 'diff_iedb.xlsx')\n",
    "xls_file = pd.ExcelFile(infile)\n",
    "table = xls_file.parse('Sheet1')\n",
    "\n",
    "# insert data into table abag\n",
    "DbBuild(table).insert_abag()\n",
    "\n",
    "# insert into table complex\n",
    "table['complex_type'] = 'abag'\n",
    "DbBuild(table).insert_complex()"
   ]
  },
  {
   "cell_type": "code",
   "execution_count": null,
   "id": "efe30233-d2ca-49cb-9cd0-aaf35f516c83",
   "metadata": {},
   "outputs": [],
   "source": []
  },
  {
   "cell_type": "markdown",
   "id": "b950d924-edb4-453e-ae2e-f880c97f67d8",
   "metadata": {},
   "source": [
    "### 3.3 compared with SAbDab"
   ]
  },
  {
   "cell_type": "code",
   "execution_count": 81,
   "id": "bac92427-86b8-43d9-bd3c-9cdea201524b",
   "metadata": {},
   "outputs": [
    {
     "name": "stdout",
     "output_type": "stream",
     "text": [
      "(345, 8)\n"
     ]
    }
   ],
   "source": [
    "# retrieve abag: heavy/light chains\n",
    "# create table diff as (select distinct pdb_id from sabdab except select distinct pdb_id from abag);\n",
    "query = \"\"\"\n",
    "    select A.chain, A.compound_no, A.pdb_id, A.chain_type, A.fragment, A.compound_text, B.name, B.pdb_url\n",
    "    from compound A, pdb B\n",
    "    where A.pdb_id IN (\n",
    "            SELECT pdb_id from diff\n",
    "        ) AND A.pdb_id = B.pdb_id\n",
    "    order by A.pdb_id, A.compound_no;\n",
    "\"\"\"\n",
    "df = DbQuery().list_data(query, True)\n",
    "df['chain_type'] = None\n",
    "df['fragment'] = None\n",
    "print(df.shape)\n",
    "\n",
    "outfile = os.path.join(data_dir, 'diff_sabdab.xlsx')\n",
    "df.to_excel(outfile, index=False)"
   ]
  },
  {
   "cell_type": "code",
   "execution_count": 82,
   "id": "d6af3627-6ef8-4fb1-a52c-799dc7aa3bec",
   "metadata": {},
   "outputs": [
    {
     "name": "stdout",
     "output_type": "stream",
     "text": [
      "table abag: total=213, succeed=213, unchanged=0\n",
      "table complex: total=85, succeed=85, unchanged=0\n"
     ]
    }
   ],
   "source": [
    "# update compount.chain_type\n",
    "infile = os.path.join(data_dir, 'label', 'diff_sabdab.xlsx')\n",
    "xls_file = pd.ExcelFile(infile)\n",
    "table = xls_file.parse('Sheet1')\n",
    "\n",
    "# insert data into table abag\n",
    "DbBuild(table).insert_abag()\n",
    "\n",
    "# insert into table complex\n",
    "table['complex_type'] = 'abag'\n",
    "DbBuild(table).insert_complex()"
   ]
  },
  {
   "cell_type": "code",
   "execution_count": null,
   "id": "b3798449-6ff7-4590-8d1c-ebbe05414735",
   "metadata": {},
   "outputs": [],
   "source": []
  },
  {
   "cell_type": "markdown",
   "id": "2e9d3ba0-43fb-4765-be66-6a7ec43b397c",
   "metadata": {},
   "source": [
    "### 3.4 confirm difference"
   ]
  },
  {
   "cell_type": "raw",
   "id": "bc82e163-e317-43ed-b630-e29978b4dc18",
   "metadata": {},
   "source": [
    "create table abag_diff AS (\n",
    "    select distinct pdb_id from abag\n",
    "    EXCEPT (\n",
    "        select distinct pdb_id from aacdb\n",
    "        UNION\n",
    "        select distinct pdb_id from iedb\n",
    "        UNION\n",
    "        select distinct pdb_id from sabdab\n",
    "    )\n",
    ");"
   ]
  },
  {
   "cell_type": "code",
   "execution_count": 334,
   "id": "7387abe7-dd54-46ed-899b-11df7acebc29",
   "metadata": {},
   "outputs": [
    {
     "name": "stdout",
     "output_type": "stream",
     "text": [
      "(520, 7)\n"
     ]
    }
   ],
   "source": [
    "query = \"\"\"\n",
    "    select A.chain, C.compound_no, C.pdb_id, C.chain_type, C.fragment, A.compound_text, B.pdb_url\n",
    "    from compound A, pdb B, abag C\n",
    "    where A.pdb_id = B.pdb_id\n",
    "        AND B.pdb_id = C.pdb_id\n",
    "        AND A.compound_no = C.compound_no\n",
    "        AND A.pdb_id IN (\n",
    "            select pdb_id from abag_diff\n",
    "        )\n",
    "    order by A.pdb_id, A.compound_no;\n",
    "\"\"\"\n",
    "df = DbQuery().list_data(query, True)\n",
    "# print(df.head(10))\n",
    "print(df.shape)\n",
    "outfile = os.path.join(data_dir, 'abag_diff.xlsx')\n",
    "df.to_excel(outfile, index=False)"
   ]
  },
  {
   "cell_type": "code",
   "execution_count": 335,
   "id": "fb228337-c76d-4364-bf2b-e1ce763de206",
   "metadata": {},
   "outputs": [
    {
     "name": "stdout",
     "output_type": "stream",
     "text": [
      "abag.chain_type: succeed=56, unchanged=463\n",
      "abag.fragment: succeed=2, unchanged=517\n"
     ]
    }
   ],
   "source": [
    "# update compount.chain_type\n",
    "infile = os.path.join(data_dir, 'label', 'abag_diff.xlsx')\n",
    "xls_file = pd.ExcelFile(infile)\n",
    "table = xls_file.parse('Sheet1')\n",
    "\n",
    "# update table abag\n",
    "DbQuery().update_compound_table('abag', 'chain_type', table)\n",
    "DbQuery().update_compound_table('abag', 'fragment', table)"
   ]
  },
  {
   "cell_type": "raw",
   "id": "b968ce37-728d-453e-8a56-8d39c5325846",
   "metadata": {},
   "source": []
  },
  {
   "cell_type": "markdown",
   "id": "26ab61e0-97bd-4a06-850b-1e09d9a2b14a",
   "metadata": {},
   "source": [
    "## 4. update"
   ]
  },
  {
   "cell_type": "code",
   "execution_count": 338,
   "id": "62f02bc6-d81b-4030-8dd7-0a8b6e8f6b0d",
   "metadata": {},
   "outputs": [
    {
     "name": "stdout",
     "output_type": "stream",
     "text": [
      "(877, 8)\n"
     ]
    }
   ],
   "source": [
    "\n",
    "query = \"\"\"\n",
    "    select A.chain, A.compound_no, A.pdb_id, A.chain_type, A.fragment, A.compound_text, B.name, B.pdb_url\n",
    "    from compound A, pdb B\n",
    "    where A.pdb_id = B.pdb_id \n",
    "        AND B.release_date > '2025-05-16'\n",
    "    order by A.pdb_id, compound_no;\n",
    "\"\"\"\n",
    "df = DbQuery().list_data(query, True)\n",
    "print(df.shape)\n",
    "\n",
    "def fn(x):\n",
    "    if re.findall(r'antibody|nanobody', x):\n",
    "        if re.findall(r'heavy', x):\n",
    "            return 'heavy'\n",
    "        elif re.findall(r'light', x):\n",
    "            return 'light'\n",
    "        return 'antigen'\n",
    "df['chain_type'] = df['compound_text'].map(fn)\n",
    "\n",
    "outfile = os.path.join(data_dir, 'abag_update.xlsx')\n",
    "df.to_excel(outfile, index=False)"
   ]
  },
  {
   "cell_type": "code",
   "execution_count": 31,
   "id": "846f10ba-a3ff-4d39-a00f-eabdef6dd3d2",
   "metadata": {},
   "outputs": [
    {
     "name": "stdout",
     "output_type": "stream",
     "text": [
      "table complex: total=48, succeed=0, unchanged=48\n",
      "table abag: total=151, succeed=0, unchanged=151\n"
     ]
    }
   ],
   "source": [
    "from src.db_build import DbBuild\n",
    "from src.db_query import DbQuery\n",
    "\n",
    "# update compount.chain_type\n",
    "infile = os.path.join(data_dir, 'label', 'abag_update.xlsx')\n",
    "xls_file = pd.ExcelFile(infile)\n",
    "table = xls_file.parse('Sheet1')\n",
    "\n",
    "# insert into table complex and abag\n",
    "table['complex_type'] = 'abag'\n",
    "b = DbBuild(table, verbose=False)\n",
    "b.insert_complex()\n",
    "b.insert_abag()"
   ]
  },
  {
   "cell_type": "raw",
   "id": "359df313-f4de-4673-a7fb-a26f90880f8c",
   "metadata": {},
   "source": [
    "# confirm SQL execution using SQL\n",
    "select max(release_date) from pdb;\n",
    "\n",
    "select count(distinct A.pdb_id) AS pdb_ids\n",
    "from pdb A, complex B\n",
    "where A.pdb_id = B.pdb_id AND A.release_date > '2025-05-16';\n",
    "\n",
    "select count(distinct A.pdb_id) AS pdb_ids, count(A.pdb_id) AS Compounds\n",
    "from pdb A, abag B\n",
    "where A.pdb_id = B.pdb_id AND A.release_date > '2025-05-16';\n"
   ]
  },
  {
   "cell_type": "code",
   "execution_count": 83,
   "id": "e034a23e-7719-489c-a109-83d5db0abd49",
   "metadata": {},
   "outputs": [
    {
     "data": {
      "text/html": [
       "<div>\n",
       "<style scoped>\n",
       "    .dataframe tbody tr th:only-of-type {\n",
       "        vertical-align: middle;\n",
       "    }\n",
       "\n",
       "    .dataframe tbody tr th {\n",
       "        vertical-align: top;\n",
       "    }\n",
       "\n",
       "    .dataframe thead th {\n",
       "        text-align: right;\n",
       "    }\n",
       "</style>\n",
       "<table border=\"1\" class=\"dataframe\">\n",
       "  <thead>\n",
       "    <tr style=\"text-align: right;\">\n",
       "      <th></th>\n",
       "      <th>complex_type</th>\n",
       "      <th>pdb_ids</th>\n",
       "    </tr>\n",
       "  </thead>\n",
       "  <tbody>\n",
       "    <tr>\n",
       "      <th>0</th>\n",
       "      <td>abag</td>\n",
       "      <td>9725</td>\n",
       "    </tr>\n",
       "    <tr>\n",
       "      <th>1</th>\n",
       "      <td>ferritin</td>\n",
       "      <td>686</td>\n",
       "    </tr>\n",
       "    <tr>\n",
       "      <th>2</th>\n",
       "      <td>kinase</td>\n",
       "      <td>11800</td>\n",
       "    </tr>\n",
       "    <tr>\n",
       "      <th>3</th>\n",
       "      <td>MHC</td>\n",
       "      <td>1513</td>\n",
       "    </tr>\n",
       "    <tr>\n",
       "      <th>4</th>\n",
       "      <td>myosin</td>\n",
       "      <td>551</td>\n",
       "    </tr>\n",
       "    <tr>\n",
       "      <th>5</th>\n",
       "      <td>thrombin</td>\n",
       "      <td>773</td>\n",
       "    </tr>\n",
       "  </tbody>\n",
       "</table>\n",
       "</div>"
      ],
      "text/plain": [
       "  complex_type  pdb_ids\n",
       "0         abag     9725\n",
       "1     ferritin      686\n",
       "2       kinase    11800\n",
       "3          MHC     1513\n",
       "4       myosin      551\n",
       "5     thrombin      773"
      ]
     },
     "execution_count": 83,
     "metadata": {},
     "output_type": "execute_result"
    }
   ],
   "source": [
    "DbQuery().count_complex()"
   ]
  }
 ],
 "metadata": {
  "kernelspec": {
   "display_name": "Python 3 (ipykernel)",
   "language": "python",
   "name": "python3"
  },
  "language_info": {
   "codemirror_mode": {
    "name": "ipython",
    "version": 3
   },
   "file_extension": ".py",
   "mimetype": "text/x-python",
   "name": "python",
   "nbconvert_exporter": "python",
   "pygments_lexer": "ipython3",
   "version": "3.10.17"
  }
 },
 "nbformat": 4,
 "nbformat_minor": 5
}
