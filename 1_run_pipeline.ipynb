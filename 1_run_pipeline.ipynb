{
 "cells": [
  {
   "cell_type": "raw",
   "id": "7ccb3d3a-ffdf-4fd7-b52e-e75f6ced3221",
   "metadata": {},
   "source": [
    "conda activate openfold-env"
   ]
  },
  {
   "cell_type": "code",
   "execution_count": 1,
   "id": "b13217e4-faea-447e-abda-8fc167f84baf",
   "metadata": {},
   "outputs": [],
   "source": [
    "import os\n",
    "import sys\n",
    "import numpy as np\n",
    "import pandas as pd\n",
    "import matplotlib.pyplot as plt\n",
    "import seaborn as sns\n",
    "from pprint import pprint"
   ]
  },
  {
   "cell_type": "code",
   "execution_count": 50,
   "id": "04464f70-acd8-4b08-a129-fd35f08f0917",
   "metadata": {},
   "outputs": [
    {
     "name": "stdout",
     "output_type": "stream",
     "text": [
      "The autoreload extension is already loaded. To reload it, use:\n",
      "  %reload_ext autoreload\n",
      "project direcotry is  /home/yuan/bio\n",
      "['/home/yuan/anaconda3/envs/openfold-env/lib/python310.zip', '/home/yuan/anaconda3/envs/openfold-env/lib/python3.10', '/home/yuan/anaconda3/envs/openfold-env/lib/python3.10/lib-dynload', '', '/home/yuan/anaconda3/envs/openfold-env/lib/python3.10/site-packages', '/home/yuan/anaconda3/envs/openfold-env/lib/python3.10/site-packages/openfold-2.2.0-py3.10-linux-x86_64.egg', '/home/yuan/bio']\n"
     ]
    }
   ],
   "source": [
    "%load_ext autoreload\n",
    "%autoreload 2 \n",
    "\n",
    "project_dir = os.path.dirname(os.getcwd())\n",
    "print('project direcotry is ', project_dir)\n",
    "if project_dir not in sys.path:\n",
    "    sys.path.append(project_dir)\n",
    "print(sys.path)\n",
    "\n",
    "#\n",
    "pdb_dir = '/home/yuan/data/pdb/rsync'\n",
    "data_dir = './data/'\n",
    "outputs_dir = '/home/yuan/output/pdb_abag'\n",
    "\n",
    "from src.db_build import DbBuild\n",
    "from src.db_query import DbQuery\n",
    "from src.db_update import DbUpdate"
   ]
  },
  {
   "cell_type": "markdown",
   "id": "5dc3ee36-f1d0-466e-bf72-6a7ed9d48238",
   "metadata": {},
   "source": [
    "## 1. this study: database"
   ]
  },
  {
   "cell_type": "markdown",
   "id": "deaa8613-d4e2-415f-b2f5-02b2fc866b76",
   "metadata": {},
   "source": [
    "### 1.1 download PDB data"
   ]
  },
  {
   "cell_type": "code",
   "execution_count": null,
   "id": "d1239b35-22f8-4c44-9e6d-d952da308b3a",
   "metadata": {},
   "outputs": [],
   "source": [
    "# download pdb files from PDB\n",
    "# wget -c -r -v  ftp://ftp.ebi.ac.uk/pub/databases/pdb/data/structures/divided/pdb -P ./"
   ]
  },
  {
   "cell_type": "raw",
   "id": "a4f9e184-f0c3-4532-a360-ed195ab75b11",
   "metadata": {},
   "source": [
    "#Download coordinate files in PDB Format (*.ent.gz)\n",
    "# https://www.wwpdb.org/ftp/pdb-ftp-sites\n",
    "\n",
    "# # since 2025-05-28, 2025-05-16\n",
    "rsync -rlpt -v -z --delete --port=33444 \\\n",
    "rsync.rcsb.org::ftp_data/structures/divided/pdb/ /home/yuan/data/pdb/rsync"
   ]
  },
  {
   "cell_type": "markdown",
   "id": "f09430a5-edcb-45fe-8911-bcf5b61ff52f",
   "metadata": {},
   "source": [
    "### 1.2 build tables in MySQL"
   ]
  },
  {
   "cell_type": "raw",
   "id": "d984070d-e3e6-4f20-965b-0788711bfef1",
   "metadata": {},
   "source": [
    "# log in mysql\n",
    "mysql -u admin -p\n",
    "\n",
    "# SQL\n",
    "CREATE DATBASE COMPLEX;\n",
    "SHOW DATABASES;"
   ]
  },
  {
   "cell_type": "raw",
   "id": "ec30fa08-9170-40d6-a400-e42873cc6c2b",
   "metadata": {},
   "source": [
    "# initialize tables\n",
    "# note: all tables will be dropped.\n",
    "python init_tables.py"
   ]
  },
  {
   "cell_type": "raw",
   "id": "99dfd4c5-ed5e-4108-bf5f-4a6e3221665f",
   "metadata": {},
   "source": [
    "# build table pdb\n",
    "python build_tables.py /home/yuan/data/pdb/rsync\n",
    "\n",
    "# SQL\n",
    "USE COMPLEX;\n",
    "SHOW TABLES;"
   ]
  },
  {
   "cell_type": "markdown",
   "id": "34325e23-1cfe-4033-b8f2-9ac4331d2e69",
   "metadata": {},
   "source": [
    "### 1.3 label data"
   ]
  },
  {
   "cell_type": "markdown",
   "id": "fbe95fc8-3ff8-4cdd-9dc4-178bf5efae4a",
   "metadata": {},
   "source": [
    "### 1.4 update tables"
   ]
  },
  {
   "cell_type": "raw",
   "id": "fb56edc6-6517-4eb5-ae7b-7f7d5ab07fa8",
   "metadata": {},
   "source": [
    "# updates: download pdb files and insert new data into tables\n",
    "# # since 2025-05-28, 2025-05-16\n",
    "python update_tables.py /home/yuan/data/pdb/rsync"
   ]
  },
  {
   "cell_type": "raw",
   "id": "fd7a3c37-4376-46f2-bb42-9bde552f7f2d",
   "metadata": {},
   "source": []
  },
  {
   "cell_type": "markdown",
   "id": "846011a6-f3ae-4c9e-bc94-563841883326",
   "metadata": {},
   "source": [
    "### 1.5 detect interface regions"
   ]
  },
  {
   "cell_type": "code",
   "execution_count": 65,
   "id": "5be63c4d-df96-458f-a625-28b20856c40e",
   "metadata": {},
   "outputs": [
    {
     "name": "stdout",
     "output_type": "stream",
     "text": [
      "total 9725\n"
     ]
    },
    {
     "data": {
      "text/plain": [
       "['/home/yuan/output/pdb_abag/_list/pdb_files__0.json',\n",
       " '/home/yuan/output/pdb_abag/_list/pdb_files__1.json',\n",
       " '/home/yuan/output/pdb_abag/_list/pdb_files__2.json',\n",
       " '/home/yuan/output/pdb_abag/_list/pdb_files__3.json',\n",
       " '/home/yuan/output/pdb_abag/_list/pdb_files__4.json']"
      ]
     },
     "execution_count": 65,
     "metadata": {},
     "output_type": "execute_result"
    }
   ],
   "source": [
    "# build files of the paths of pdb files\n",
    "from src.dir import Dir\n",
    "from src.utils import Utils\n",
    "\n",
    "\n",
    "pdb_iter = DbQuery().scan_abag()\n",
    "# print(next(pdb_iter))\n",
    "\n",
    "list_dir = os.path.join(outputs_dir, '_list')\n",
    "Dir(list_dir).init_dir()\n",
    "outprefix = os.path.join(list_dir, \"pdb_files_\")\n",
    "\n",
    "chunk_size = 2_000\n",
    "Utils.iter_to_json(pdb_iter, outprefix, chunk_size)\n",
    "\n",
    "# print(f\"parallel -j4 python run.py {outputs_dir} ::: {list_dir}/pdb_files_*.txt\")"
   ]
  },
  {
   "cell_type": "raw",
   "id": "69362770-526b-41c7-a349-5926b9fc99b5",
   "metadata": {},
   "source": [
    "# test\n",
    "python run.py /home/yuan/output/pdb_abag /home/yuan/output/pdb_abag/_list/pdb_files_22.txt\n",
    "\n",
    "# GNU parallel examples\n",
    "parallel -j4 python run.py /home/yuan/output/pdb_abag ::: /home/yuan/output/pdb_abag/_list/pdb_files_*.txt\n",
    "\n",
    "# combine errors into one file\n",
    "cat /home/yuan/output/pdb_abag/pdb_files_*.txt.err > /home/yuan/output/pdb_abag/pdb_failed.txt\n",
    "# rm /home/yuan/output/pdb_abag/pdb_files_*.txt.err\n",
    "\n",
    "#run additional \n",
    "python run.py /home/yuan/output/pdb_abag extra_pdb.txt"
   ]
  },
  {
   "cell_type": "code",
   "execution_count": null,
   "id": "6bf26ed5-f239-4228-a4a5-55f93f921675",
   "metadata": {},
   "outputs": [],
   "source": [
    "## 2. this study: run"
   ]
  },
  {
   "cell_type": "code",
   "execution_count": null,
   "id": "29380dff-5098-4267-b9d3-249c4aff4809",
   "metadata": {},
   "outputs": [],
   "source": []
  },
  {
   "cell_type": "markdown",
   "id": "96fb4644-90a7-4923-9f86-76653d1fdc50",
   "metadata": {},
   "source": [
    "## meta data\n",
    " - chains\n",
    " - map uniprot"
   ]
  },
  {
   "cell_type": "raw",
   "id": "f9330629-df4e-4dcb-ab2a-c567853aac64",
   "metadata": {},
   "source": [
    "# test\n",
    "python run_meta.py /home/yuan/output/pdb_abag /home/yuan/output/pdb_abag/tmp.txt\n",
    "python run_meta.py /home/yuan/output/pdb_abag /home/yuan/output/pdb_abag/pdb_files_22.txt\n",
    "#\n",
    "parallel -j4 python run_meta.py /home/yuan/output/pdb_abag ::: /home/yuan/output/pdb_abag/pdb_files_*.txt"
   ]
  },
  {
   "cell_type": "raw",
   "id": "1d535f0d-e5f3-471f-8146-231410abd557",
   "metadata": {},
   "source": []
  },
  {
   "cell_type": "markdown",
   "id": "ce6579a3-674b-494b-8074-b1a76071b3a2",
   "metadata": {},
   "source": [
    "## 2. AACDB"
   ]
  },
  {
   "cell_type": "markdown",
   "id": "b45703a3-6759-467e-93d3-ef9446d02733",
   "metadata": {},
   "source": [
    "### build table aacdb from AACDB"
   ]
  },
  {
   "cell_type": "raw",
   "id": "10c2d210-0e02-430d-a5ff-f4d6aa4d7b5a",
   "metadata": {},
   "source": [
    "# \n",
    "python build_aacdb.py /home/yuan/bio/antibody-antigen-complex/data"
   ]
  },
  {
   "cell_type": "markdown",
   "id": "ff79187b-8fe5-4a25-9752-2e45be11c2b9",
   "metadata": {},
   "source": [
    "## 3. IEDB"
   ]
  },
  {
   "cell_type": "markdown",
   "id": "9448cdaf-3bdf-4fcc-8ee2-117a7d5439da",
   "metadata": {},
   "source": [
    "### build table iedb from IEDB"
   ]
  },
  {
   "cell_type": "raw",
   "id": "6e88a8a0-ebf6-4a76-88c5-d10bf850d16b",
   "metadata": {},
   "source": [
    "# copy IEDB.complex to COMPLEX.iedb\n",
    "CREATE TABLE COMPLEX.iedb LIKE IEDB.complex;\n",
    "INSERT INTO COMPLEX.iedb SELECT * FROM IEDB.complex;"
   ]
  },
  {
   "cell_type": "markdown",
   "id": "046b6dd4-3e89-4d3e-a446-34fc4701fd84",
   "metadata": {},
   "source": [
    "## 4. SAbDab"
   ]
  },
  {
   "cell_type": "raw",
   "id": "3e540067-2bfe-4036-8a2f-71f065d12100",
   "metadata": {},
   "source": [
    "# Employ a python script to download summary data\n",
    "# wget -cv https://opig.stats.ox.ac.uk/webapps/abdb/entries/9l6c/summary/9l6c.tsv ./ || true\n",
    "# till 051325, 5308 retrieved, 51 failed\n",
    "python download_sabdab.py /home/yuan/data/sabdab /home/yuan/data/pdb/rsync"
   ]
  },
  {
   "cell_type": "code",
   "execution_count": null,
   "id": "9d37a19e-0d50-40c2-9ca9-7491291c71af",
   "metadata": {},
   "outputs": [],
   "source": []
  },
  {
   "cell_type": "code",
   "execution_count": 3,
   "id": "6783e12b-3293-4a2f-8339-5e0fe2b5759f",
   "metadata": {},
   "outputs": [],
   "source": [
    "from src.db_build import DbBuild\n",
    "from src.utils import Utils\n",
    "\n",
    "pdb_path = Utils.get_raw_pdb(pdb_dir)\n",
    "b = DbBuild(pdb_path)"
   ]
  },
  {
   "cell_type": "code",
   "execution_count": null,
   "id": "98f5d49d-911e-4191-83fd-23b529a9afbf",
   "metadata": {},
   "outputs": [],
   "source": []
  }
 ],
 "metadata": {
  "kernelspec": {
   "display_name": "Python 3 (ipykernel)",
   "language": "python",
   "name": "python3"
  },
  "language_info": {
   "codemirror_mode": {
    "name": "ipython",
    "version": 3
   },
   "file_extension": ".py",
   "mimetype": "text/x-python",
   "name": "python",
   "nbconvert_exporter": "python",
   "pygments_lexer": "ipython3",
   "version": "3.10.17"
  }
 },
 "nbformat": 4,
 "nbformat_minor": 5
}
