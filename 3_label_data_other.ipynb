{
 "cells": [
  {
   "cell_type": "code",
   "execution_count": 1,
   "id": "0a6a75d0-5754-4777-af16-a490b401e617",
   "metadata": {},
   "outputs": [],
   "source": [
    "import os\n",
    "import re\n",
    "import sys\n",
    "import numpy as np\n",
    "import pandas as pd\n",
    "import matplotlib.pyplot as plt\n",
    "import seaborn as sns\n",
    "from pprint import pprint\n",
    "\n",
    "from src.query_db import QueryDb"
   ]
  },
  {
   "cell_type": "code",
   "execution_count": 2,
   "id": "560d9458-6a01-491d-9ead-f5cc77ea2f32",
   "metadata": {},
   "outputs": [
    {
     "name": "stdout",
     "output_type": "stream",
     "text": [
      "project direcotry is  /home/yuan/bio\n",
      "['/home/yuan/anaconda3/envs/openfold-env/lib/python310.zip', '/home/yuan/anaconda3/envs/openfold-env/lib/python3.10', '/home/yuan/anaconda3/envs/openfold-env/lib/python3.10/lib-dynload', '', '/home/yuan/anaconda3/envs/openfold-env/lib/python3.10/site-packages', '/home/yuan/anaconda3/envs/openfold-env/lib/python3.10/site-packages/openfold-2.2.0-py3.10-linux-x86_64.egg', '/home/yuan/bio']\n"
     ]
    }
   ],
   "source": [
    "%load_ext autoreload\n",
    "%autoreload 2 \n",
    "\n",
    "project_dir = os.path.dirname(os.getcwd())\n",
    "print('project direcotry is ', project_dir)\n",
    "if project_dir not in sys.path:\n",
    "    sys.path.append(project_dir)\n",
    "print(sys.path)\n",
    "\n",
    "#\n",
    "pdb_dir = '/home/yuan/data/pdb/rsync'\n",
    "data_dir = './data/'\n",
    "outputs_dir = '/home/yuan/output/pdb_abag'"
   ]
  },
  {
   "cell_type": "markdown",
   "id": "4501cf61-281e-462a-8baf-3d25fba7b788",
   "metadata": {},
   "source": [
    "### myosin"
   ]
  },
  {
   "cell_type": "code",
   "execution_count": 3,
   "id": "7db24281-a95b-40f2-80cd-835a85f31dab",
   "metadata": {},
   "outputs": [
    {
     "name": "stdout",
     "output_type": "stream",
     "text": [
      "(1234, 8)\n"
     ]
    }
   ],
   "source": [
    "query = f\"\"\"\n",
    "    select A.chain, A.compound_no, A.pdb_id, A.chain_type, A.fragment, A.compound_text, B.name, B.pdb_url\n",
    "    from compound A, pdb B\n",
    "    where A.pdb_id = B.pdb_id \n",
    "        AND A.pdb_id IN (\n",
    "            select distinct pdb_id from compound\n",
    "            where compound_text REGEXP \"myosin\")\n",
    "        AND A.pdb_id NOT IN (\n",
    "            select distinct pdb_id from compound\n",
    "            where chain_type REGEXP \"heavy|light|single|antigen\"\n",
    "        )\n",
    "    order by A.pdb_id, compound_no;\n",
    "\"\"\"\n",
    "df = QueryDb().list_data(query, True)\n",
    "print(df.shape)\n",
    "\n",
    "outfile = os.path.join(data_dir, 'fragment_myosin.xlsx')\n",
    "df.to_excel(outfile, index=False)"
   ]
  },
  {
   "cell_type": "code",
   "execution_count": null,
   "id": "72b552a6-9bc1-4d1f-8dfd-5f0f3e54b767",
   "metadata": {},
   "outputs": [],
   "source": [
    "# check distinct complex\n",
    "CREATE TEMPORARY TABLE myosin AS\n",
    "    select distinct A.pdb_id\n",
    "    from compound A, pdb B\n",
    "    where A.pdb_id = B.pdb_id \n",
    "        AND A.pdb_id IN (\n",
    "            select distinct pdb_id from compound\n",
    "            where compound_text REGEXP \"myosin\")\n",
    "        AND A.pdb_id NOT IN (\n",
    "            select distinct pdb_id from compound\n",
    "            where chain_type REGEXP \"heavy|light|single|antigen\"\n",
    "        );\n",
    "\n",
    "#\n",
    "UPDATE pdb\n",
    "SET complex_type = 'myosin'\n",
    "WHERE pdb_id IN (\n",
    "    select pdb_id from myosin\n",
    ");"
   ]
  },
  {
   "cell_type": "markdown",
   "id": "5a711de2-1e36-4887-9cd4-82704f531706",
   "metadata": {},
   "source": [
    "### ferritin"
   ]
  },
  {
   "cell_type": "code",
   "execution_count": null,
   "id": "0dc66bce-3f89-4715-b21b-aec28cf35de5",
   "metadata": {},
   "outputs": [],
   "source": [
    "query = f\"\"\"\n",
    "    select A.chain, A.compound_no, A.pdb_id, A.chain_type, A.fragment, A.compound_text, B.name, B.pdb_url\n",
    "    from compound A, pdb B\n",
    "    where A.pdb_id = B.pdb_id \n",
    "        AND A.pdb_id IN (\n",
    "            select distinct pdb_id from compound\n",
    "            where compound_text REGEXP \"ferritin\")\n",
    "        AND A.pdb_id NOT IN (\n",
    "            select distinct pdb_id from compound\n",
    "            where chain_type REGEXP \"heavy|light|single|antigen\"\n",
    "        )\n",
    "    order by A.pdb_id, compound_no;\n",
    "\"\"\"\n",
    "df = QueryDb().list_data(query, True)\n",
    "print(df.shape)\n",
    "\n",
    "outfile = os.path.join(data_dir, 'fragment_ferritin.xlsx')\n",
    "df.to_excel(outfile, index=False)"
   ]
  },
  {
   "cell_type": "code",
   "execution_count": null,
   "id": "e3e0e8e2-880a-4677-8d81-3020115ea803",
   "metadata": {},
   "outputs": [],
   "source": [
    "# check distinct complex\n",
    "CREATE TEMPORARY TABLE ferritin AS\n",
    "    select distinct A.pdb_id\n",
    "    from compound A, pdb B\n",
    "    where A.pdb_id = B.pdb_id \n",
    "        AND A.pdb_id IN (\n",
    "            select distinct pdb_id from compound\n",
    "            where compound_text REGEXP \"ferritin\")\n",
    "        AND A.pdb_id NOT IN (\n",
    "            select distinct pdb_id from compound\n",
    "            where chain_type REGEXP \"heavy|light|single|antigen\"\n",
    "        );\n",
    "\n",
    "#\n",
    "UPDATE pdb\n",
    "SET complex_type = 'ferritin'\n",
    "WHERE pdb_id IN (\n",
    "    select pdb_id from ferritin\n",
    ");"
   ]
  },
  {
   "cell_type": "markdown",
   "id": "ef677b38-e4bf-470f-80a1-85a6921342d5",
   "metadata": {},
   "source": [
    "### kinase"
   ]
  },
  {
   "cell_type": "code",
   "execution_count": 4,
   "id": "1245ed75-5357-4356-8353-27464d0716fd",
   "metadata": {},
   "outputs": [
    {
     "name": "stdout",
     "output_type": "stream",
     "text": [
      "(15560, 8)\n"
     ]
    }
   ],
   "source": [
    "query = f\"\"\"\n",
    "    select A.chain, A.compound_no, A.pdb_id, A.chain_type, A.fragment, A.compound_text, B.name, B.pdb_url\n",
    "    from compound A, pdb B\n",
    "    where A.pdb_id = B.pdb_id \n",
    "        AND A.pdb_id IN (\n",
    "            select distinct pdb_id from compound\n",
    "            where compound_text REGEXP \"ec_number\"\n",
    "             AND compound_text REGEXP \"kinase\")\n",
    "        AND A.pdb_id NOT IN (\n",
    "            select distinct pdb_id from compound\n",
    "            where chain_type REGEXP \"heavy|light|single|antigen\"\n",
    "        )\n",
    "    order by A.pdb_id, compound_no;\n",
    "\"\"\"\n",
    "df = QueryDb().list_data(query, True)\n",
    "print(df.shape)\n",
    "\n",
    "outfile = os.path.join(data_dir, 'fragment_kinase.xlsx')\n",
    "df.to_excel(outfile, index=False)"
   ]
  },
  {
   "cell_type": "code",
   "execution_count": null,
   "id": "7c91cb4f-fa7a-4f21-9c02-2090fc8a4270",
   "metadata": {},
   "outputs": [],
   "source": [
    "CREATE TEMPORARY TABLE kinase AS\n",
    "    select distinct A.pdb_id\n",
    "    from compound A, pdb B\n",
    "    where A.pdb_id = B.pdb_id \n",
    "        AND A.pdb_id IN (\n",
    "            select distinct pdb_id from compound\n",
    "            where compound_text REGEXP \"ec_number\"\n",
    "             AND compound_text REGEXP \"kinase\")\n",
    "        AND A.pdb_id NOT IN (\n",
    "            select distinct pdb_id from compound\n",
    "            where chain_type REGEXP \"heavy|light|single|antigen\"\n",
    "        );\n",
    "\n",
    "#\n",
    "UPDATE pdb\n",
    "SET complex_type = 'kinase'\n",
    "WHERE pdb_id IN (\n",
    "    select pdb_id from kinase\n",
    ");"
   ]
  },
  {
   "cell_type": "markdown",
   "id": "a0d012fa-ec95-4d98-bede-735019e35eb9",
   "metadata": {},
   "source": [
    "### thrombin"
   ]
  },
  {
   "cell_type": "code",
   "execution_count": 10,
   "id": "a1c2a348-b248-4a70-bb8b-07fb69bf606f",
   "metadata": {},
   "outputs": [
    {
     "name": "stdout",
     "output_type": "stream",
     "text": [
      "(1870, 8)\n"
     ]
    }
   ],
   "source": [
    "query = f\"\"\"\n",
    "    select A.chain, A.compound_no, A.pdb_id, A.chain_type, A.fragment, A.compound_text, B.name, B.pdb_url\n",
    "    from compound A, pdb B\n",
    "    where A.pdb_id = B.pdb_id \n",
    "        AND A.pdb_id IN (\n",
    "            select distinct pdb_id from compound\n",
    "            where compound_text REGEXP \"thrombin\"\n",
    "                AND chain_type NOT REGEXP \"heavy|light|single|antigen\"\n",
    "        )\n",
    "    order by A.pdb_id, compound_no;\n",
    "\"\"\"\n",
    "df = QueryDb().list_data(query, True)\n",
    "print(df.shape)\n",
    "\n",
    "outfile = os.path.join(data_dir, 'fragment_thrombin.xlsx')\n",
    "df.to_excel(outfile, index=False)"
   ]
  },
  {
   "cell_type": "raw",
   "id": "e9929b81-5b3a-4057-8305-a1a234f805a8",
   "metadata": {},
   "source": [
    "CREATE TEMPORARY TABLE thrombin AS\n",
    "    select distinct A.pdb_id\n",
    "    from compound A, pdb B\n",
    "    where A.pdb_id = B.pdb_id \n",
    "        AND A.pdb_id IN (\n",
    "            select distinct pdb_id from compound\n",
    "            where compound_text REGEXP \"thrombin\"\n",
    "                AND chain_type NOT REGEXP \"heavy|light|single|antigen\"\n",
    "        );\n",
    "\n",
    "#\n",
    "UPDATE pdb\n",
    "SET complex_type = 'thrombin'\n",
    "WHERE pdb_id IN (\n",
    "    select pdb_id from thrombin\n",
    ");"
   ]
  },
  {
   "cell_type": "markdown",
   "id": "230552a2-747d-4fbb-ac95-1ffa43c751c3",
   "metadata": {},
   "source": [
    "### enzyme"
   ]
  },
  {
   "cell_type": "code",
   "execution_count": 16,
   "id": "03f9fedf-d2f5-4b35-9899-19503c6ff4f3",
   "metadata": {},
   "outputs": [
    {
     "name": "stdout",
     "output_type": "stream",
     "text": [
      "(1831, 8)\n"
     ]
    }
   ],
   "source": [
    "query = f\"\"\"\n",
    "    select A.chain, A.compound_no, A.pdb_id, A.chain_type, A.fragment, A.compound_text, B.name, B.pdb_url\n",
    "    from compound A, pdb B\n",
    "    where A.pdb_id = B.pdb_id \n",
    "        AND A.pdb_id IN (\n",
    "            select distinct pdb_id from compound\n",
    "            where compound_text REGEXP \"ec_number\"\n",
    "                AND chain_type NOT REGEXP \"heavy|light|single|antigen\"\n",
    "                AND B.complex_type is NULL\n",
    "        )\n",
    "    order by A.pdb_id, compound_no;\n",
    "\"\"\"\n",
    "df = QueryDb().list_data(query, True)\n",
    "print(df.shape)\n",
    "\n",
    "outfile = os.path.join(data_dir, 'fragment_enzyme.xlsx')\n",
    "df.to_excel(outfile, index=False)"
   ]
  },
  {
   "cell_type": "markdown",
   "id": "ebe72ea1-4125-408a-8d87-654e24c0897a",
   "metadata": {},
   "source": [
    "## Major histocompatibility complex\n",
    "MHC"
   ]
  },
  {
   "cell_type": "raw",
   "id": "11361a00-0e87-4586-92b9-c2b56bd67429",
   "metadata": {},
   "source": [
    "# table \n",
    "insert into complex (pdb_id, complex_type)\n",
    "select pdb_id, complex_type from pdb where complex_type is not null;"
   ]
  },
  {
   "cell_type": "code",
   "execution_count": 28,
   "id": "93546c14-ab07-4830-ae77-b7ca1ba17d7a",
   "metadata": {},
   "outputs": [
    {
     "name": "stdout",
     "output_type": "stream",
     "text": [
      "(5232, 8)\n"
     ]
    }
   ],
   "source": [
    "query = f\"\"\"\n",
    "    select A.chain, A.compound_no, A.pdb_id, A.chain_type, A.fragment, A.compound_text, B.name, B.pdb_url\n",
    "    from compound A, pdb B\n",
    "    where A.pdb_id = B.pdb_id \n",
    "        AND A.pdb_id IN (\n",
    "            select distinct pdb_id from compound\n",
    "            where (compound_text REGEXP \"mhc|hla|microglobulin\" or name REGEXP \"mhc|hla|microglobulin\")\n",
    "                AND chain_type NOT REGEXP \"heavy|light|single|antigen\"\n",
    "        )\n",
    "    order by A.pdb_id, compound_no;\n",
    "\"\"\"\n",
    "df = QueryDb().list_data(query, True)\n",
    "\n",
    "def fn(x):\n",
    "    if re.findall(r'alpha|heavy', x):\n",
    "        return 'alpha'\n",
    "    elif re.findall(r'microglobulin|light|beta', x):\n",
    "        return 'beta'\n",
    "    elif re.findall(r'gamma|peptid', x):\n",
    "        return 'peptide'\n",
    "    elif re.findall(r'receptor', x):\n",
    "        return 't-receptor'\n",
    "    return None\n",
    "df['chain_type'] = df['compound_text'].map(fn)\n",
    "\n",
    "print(df.shape)\n",
    "\n",
    "outfile = os.path.join(data_dir, 'MHC.xlsx')\n",
    "df.to_excel(outfile, index=False)"
   ]
  },
  {
   "cell_type": "code",
   "execution_count": 30,
   "id": "528ef134-7b9c-43e9-aac4-ce37d5572168",
   "metadata": {},
   "outputs": [],
   "source": [
    "# update compount.chain_type\n",
    "infile = os.path.join(data_dir, 'label', 'MHC.xlsx')\n",
    "xls_file = pd.ExcelFile(infile)\n",
    "table = xls_file.parse('Sheet1')"
   ]
  },
  {
   "cell_type": "code",
   "execution_count": 35,
   "id": "c00bc1d0-4282-4c92-9e81-ad830aa528e4",
   "metadata": {},
   "outputs": [],
   "source": [
    "# update table complex\n",
    "from src.build_db import BuildDb\n",
    "\n",
    "records = [(pdb_id, 'MHC') for pdb_id in table['pdb_id'].unique()]\n",
    "BuildDb(records).insert_complex()"
   ]
  },
  {
   "cell_type": "code",
   "execution_count": 36,
   "id": "b702bb50-cf25-4d88-9218-b2e42d60da71",
   "metadata": {},
   "outputs": [
    {
     "name": "stdout",
     "output_type": "stream",
     "text": [
      "chain_type: succeed=5140, unchanged=21\n",
      "fragment: succeed=252, unchanged=4909\n"
     ]
    }
   ],
   "source": [
    "#  update table compound\n",
    "QueryDb().update_compound(table, 'chain_type')\n",
    "QueryDb().update_compound(table, 'fragment')"
   ]
  },
  {
   "cell_type": "markdown",
   "id": "d2a50e76-0d85-4a50-8f03-367a1d93b916",
   "metadata": {},
   "source": [
    "### transcription factor"
   ]
  },
  {
   "cell_type": "code",
   "execution_count": 60,
   "id": "c935af28-af5a-428b-a6d4-9273addb8558",
   "metadata": {},
   "outputs": [
    {
     "name": "stdout",
     "output_type": "stream",
     "text": [
      "(11520, 7)\n"
     ]
    }
   ],
   "source": [
    "query = f\"\"\"\n",
    "    select A.chain, A.compound_no, A.pdb_id, A.chain_type, A.fragment, A.compound_text, B.pdb_url\n",
    "    from compound A, pdb B\n",
    "    where A.pdb_id = B.pdb_id \n",
    "        AND A.pdb_id IN (\n",
    "            select distinct pdb_id from compound\n",
    "            where (compound_text REGEXP \"transcription\" and compound_text REGEXP \"factor\")\n",
    "        )\n",
    "    order by A.pdb_id, compound_no;\n",
    "\"\"\"\n",
    "df = QueryDb().list_data(query, True)\n",
    "print(df.shape)\n",
    "\n",
    "def fn(x):\n",
    "    if re.findall(r'transcriptional factor', x):\n",
    "        return 'tf'\n",
    "    elif re.findall(r'dna ', x):\n",
    "        return 'dna'        \n",
    "    return 'factor'\n",
    "df['chain_type'] = df['compound_text'].map(fn)\n",
    "\n",
    "outfile = os.path.join(data_dir, 'tf.xlsx')\n",
    "df.to_excel(outfile, index=False)"
   ]
  },
  {
   "cell_type": "markdown",
   "id": "42ac4e93-f11b-469e-9b0a-056662e38e22",
   "metadata": {},
   "source": [
    "### G protein"
   ]
  },
  {
   "cell_type": "code",
   "execution_count": 66,
   "id": "ad7fda9f-10d4-46dc-ac34-de9d2da3c51b",
   "metadata": {},
   "outputs": [
    {
     "name": "stdout",
     "output_type": "stream",
     "text": [
      "(1665, 7)\n"
     ]
    }
   ],
   "source": [
    "query = f\"\"\"\n",
    "    select A.chain, A.compound_no, A.pdb_id, A.chain_type, A.fragment, A.compound_text, B.pdb_url\n",
    "    from compound A, pdb B\n",
    "    where A.pdb_id = B.pdb_id \n",
    "        AND A.pdb_id IN (\n",
    "            select distinct pdb_id from compound\n",
    "            where (compound_text REGEXP \" g protein|g binding protein|dopamine|adrenergic|opioid\" \n",
    "                and compound_text REGEXP \" g protein|g binding protein|dopamine|adrenergic|opioid\")\n",
    "        )\n",
    "    order by A.pdb_id, compound_no;\n",
    "\"\"\"\n",
    "df = QueryDb().list_data(query, True)\n",
    "print(df.shape)\n",
    "\n",
    "def fn(x):\n",
    "    if re.findall(r'g[ |-]protein', x):\n",
    "        return 'gpro'\n",
    "    elif re.findall(r'receptor ', x):\n",
    "        return 'receptor'\n",
    "    return 'factor'\n",
    "df['chain_type'] = df['compound_text'].map(fn)\n",
    "\n",
    "outfile = os.path.join(data_dir, 'gpro.txt')\n",
    "df.to_csv(outfile, sep='\\t', index=False)\n",
    "\n",
    "outfile = os.path.join(data_dir, 'gpro.xlsx')\n",
    "df.to_excel(outfile, index=False)"
   ]
  },
  {
   "cell_type": "code",
   "execution_count": null,
   "id": "9d921ccb-7e2a-4086-b37b-076577e6c92a",
   "metadata": {},
   "outputs": [],
   "source": [
    "### protease"
   ]
  },
  {
   "cell_type": "code",
   "execution_count": 69,
   "id": "75d911a4-04b0-43e6-9b1d-de54e5e8f2ed",
   "metadata": {},
   "outputs": [
    {
     "name": "stdout",
     "output_type": "stream",
     "text": [
      "(11328, 7)\n"
     ]
    }
   ],
   "source": [
    "query = f\"\"\"\n",
    "    select A.chain, A.compound_no, A.pdb_id, A.chain_type, A.fragment, A.compound_text, B.pdb_url\n",
    "    from compound A, pdb B\n",
    "    where A.pdb_id = B.pdb_id \n",
    "        AND A.pdb_id IN (\n",
    "            select distinct pdb_id from compound\n",
    "            where (compound_text REGEXP \"protease\" and compound_text REGEXP \"protease\")\n",
    "            AND (compound_text Not REGEXP \"thrombin\" and compound_text NOT REGEXP \"thrombin\")\n",
    "        )\n",
    "    order by A.pdb_id, compound_no;\n",
    "\"\"\"\n",
    "df = QueryDb().list_data(query, True)\n",
    "print(df.shape)\n",
    "\n",
    "def fn(x):\n",
    "    if re.findall(r'protease', x):\n",
    "        return 'protease'\n",
    "    return 'factor'\n",
    "df['chain_type'] = df['compound_text'].map(fn)\n",
    "\n",
    "outfile = os.path.join(data_dir, 'protease.txt')\n",
    "df.to_csv(outfile, sep='\\t', index=False)\n",
    "\n",
    "outfile = os.path.join(data_dir, 'protease.xlsx')\n",
    "df.to_excel(outfile, index=False)"
   ]
  },
  {
   "cell_type": "markdown",
   "id": "8856820c-a440-4e3d-aa2a-8ba6518fa350",
   "metadata": {},
   "source": [
    "### ribosome"
   ]
  },
  {
   "cell_type": "code",
   "execution_count": 57,
   "id": "f324b6e8-91c9-4420-b536-8e6ee1685bc0",
   "metadata": {},
   "outputs": [],
   "source": [
    "query = f\"\"\"\n",
    "    select A.chain, A.compound_no, A.pdb_id, A.chain_type, NULL as weight, NULL as molecule, A.fragment, A.compound_text, B.pdb_url\n",
    "    from compound A, pdb B\n",
    "    where A.pdb_id = B.pdb_id \n",
    "        AND A.pdb_id IN (\n",
    "            select distinct pdb_id from compound\n",
    "            where (compound_text REGEXP \"ribosom\" or name REGEXP \"ribosom\")\n",
    "        )\n",
    "    order by A.pdb_id, compound_no;\n",
    "\"\"\"\n",
    "df = QueryDb().list_data(query, True)\n",
    "df.shape\n",
    "\n",
    "def fn(x):\n",
    "    if re.findall(r'ec_number', x):\n",
    "        return 'enzyme'\n",
    "    elif re.findall(r'rrna|ribosomal rna', x):\n",
    "        return 'rrna'\n",
    "    elif re.findall(r'rna ', x):\n",
    "        return 'rna'        \n",
    "    elif re.findall(r'ribosomal protein', x):\n",
    "        return 'rpro'\n",
    "    return 'factor'\n",
    "df['chain_type'] = df['compound_text'].map(fn)\n",
    "\n",
    "def fn(x):\n",
    "    pros= re.findall(r'\\d+s', x)\n",
    "    if pros:    \n",
    "        return pros[0]\n",
    "    return None\n",
    "df['weight'] = df['compound_text'].map(fn)\n",
    "\n",
    "def fn(x):\n",
    "    pros= re.findall(r' [s|l|bl]\\d+', x)\n",
    "    if pros:    \n",
    "        return pros[0]\n",
    "    return None\n",
    "df['molecule'] = df['compound_text'].map(fn)\n",
    "\n",
    "outfile = os.path.join(data_dir, 'ribosome.xlsx')\n",
    "df.to_excel(outfile, index=False)"
   ]
  },
  {
   "cell_type": "code",
   "execution_count": null,
   "id": "e689a88f-5629-4721-968e-81f9a02a5490",
   "metadata": {},
   "outputs": [],
   "source": [
    "# update compount.chain_type\n",
    "# infile = os.path.join(data_dir, 'label', 'ribosome.xlsx')\n",
    "# xls_file = pd.ExcelFile(infile)\n",
    "# table = xls_file.parse('Sheet1')\n",
    "\n",
    "# QueryDb().update_compound(table, 'chain_type')\n",
    "# QueryDb().update_compound(table, 'fragment')"
   ]
  },
  {
   "cell_type": "code",
   "execution_count": null,
   "id": "389d5572-59df-470c-bd47-33f0eaabb4bc",
   "metadata": {},
   "outputs": [],
   "source": []
  },
  {
   "cell_type": "code",
   "execution_count": null,
   "id": "a2dd9696-3c5c-4d35-a9d8-45fdfcedc613",
   "metadata": {},
   "outputs": [],
   "source": []
  },
  {
   "cell_type": "code",
   "execution_count": null,
   "id": "b4c97b36-42c1-4f51-a6f0-f67e7821d6ea",
   "metadata": {},
   "outputs": [],
   "source": []
  },
  {
   "cell_type": "code",
   "execution_count": 45,
   "id": "1715aed4-d9bc-428a-b469-fe6b7fbf2676",
   "metadata": {},
   "outputs": [
    {
     "name": "stdout",
     "output_type": "stream",
     "text": [
      "(356717, 8)\n"
     ]
    }
   ],
   "source": [
    "query = f\"\"\"\n",
    "    select A.chain, A.compound_no, A.pdb_id, A.chain_type, A.fragment, A.compound_text, B.name, B.pdb_url\n",
    "    from compound A, pdb B\n",
    "    where A.pdb_id = B.pdb_id\n",
    "        AND A.pdb_id NOT IN (\n",
    "            select pdb_id from compound\n",
    "            where chain_type REGEXP 'heavy|light|single|antigen'\n",
    "            union\n",
    "            select pdb_id from complex where complex_type\n",
    "        )\n",
    "    order by A.pdb_id, compound_no;\n",
    "\"\"\"\n",
    "df = QueryDb().list_data(query, True)\n",
    "print(df.shape)\n",
    "\n",
    "outfile = os.path.join(data_dir, 'fragment_other.xlsx')\n",
    "df.to_excel(outfile, index=False)"
   ]
  },
  {
   "cell_type": "code",
   "execution_count": null,
   "id": "1c64a9d6-93ee-47ac-a91a-29d8289887a3",
   "metadata": {},
   "outputs": [],
   "source": []
  }
 ],
 "metadata": {
  "kernelspec": {
   "display_name": "Python 3 (ipykernel)",
   "language": "python",
   "name": "python3"
  },
  "language_info": {
   "codemirror_mode": {
    "name": "ipython",
    "version": 3
   },
   "file_extension": ".py",
   "mimetype": "text/x-python",
   "name": "python",
   "nbconvert_exporter": "python",
   "pygments_lexer": "ipython3",
   "version": "3.10.17"
  }
 },
 "nbformat": 4,
 "nbformat_minor": 5
}
