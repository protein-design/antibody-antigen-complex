{
 "cells": [
  {
   "cell_type": "raw",
   "id": "7ccb3d3a-ffdf-4fd7-b52e-e75f6ced3221",
   "metadata": {},
   "source": [
    "conda activate openfold-env"
   ]
  },
  {
   "cell_type": "code",
   "execution_count": 1,
   "id": "b13217e4-faea-447e-abda-8fc167f84baf",
   "metadata": {},
   "outputs": [],
   "source": [
    "import os\n",
    "import sys\n",
    "import numpy as np\n",
    "import pandas as pd\n",
    "import matplotlib.pyplot as plt\n",
    "import seaborn as sns\n",
    "from pprint import pprint"
   ]
  },
  {
   "cell_type": "code",
   "execution_count": 2,
   "id": "04464f70-acd8-4b08-a129-fd35f08f0917",
   "metadata": {},
   "outputs": [
    {
     "name": "stdout",
     "output_type": "stream",
     "text": [
      "project direcotry is  /home/yuan/bio\n",
      "['/home/yuan/anaconda3/envs/openfold-env/lib/python310.zip', '/home/yuan/anaconda3/envs/openfold-env/lib/python3.10', '/home/yuan/anaconda3/envs/openfold-env/lib/python3.10/lib-dynload', '', '/home/yuan/anaconda3/envs/openfold-env/lib/python3.10/site-packages', '/home/yuan/anaconda3/envs/openfold-env/lib/python3.10/site-packages/openfold-2.2.0-py3.10-linux-x86_64.egg', '/home/yuan/bio']\n"
     ]
    }
   ],
   "source": [
    "%load_ext autoreload\n",
    "%autoreload 2 \n",
    "\n",
    "project_dir = os.path.dirname(os.getcwd())\n",
    "print('project direcotry is ', project_dir)\n",
    "if project_dir not in sys.path:\n",
    "    sys.path.append(project_dir)\n",
    "print(sys.path)\n",
    "\n",
    "#\n",
    "pdb_dir = '/home/yuan/data/pdb/rsync'\n",
    "data_dir = './data/'\n",
    "outputs_dir = '/home/yuan/output/pdb_abag'"
   ]
  },
  {
   "cell_type": "markdown",
   "id": "5dc3ee36-f1d0-466e-bf72-6a7ed9d48238",
   "metadata": {},
   "source": [
    "## download data"
   ]
  },
  {
   "cell_type": "code",
   "execution_count": null,
   "id": "d1239b35-22f8-4c44-9e6d-d952da308b3a",
   "metadata": {},
   "outputs": [],
   "source": [
    "# download pdb files from PDB\n",
    "# wget -c -r -v  ftp://ftp.ebi.ac.uk/pub/databases/pdb/data/structures/divided/pdb -P ./"
   ]
  },
  {
   "cell_type": "raw",
   "id": "a4f9e184-f0c3-4532-a360-ed195ab75b11",
   "metadata": {},
   "source": [
    "#Download coordinate files in PDB Format (*.ent.gz)\n",
    "# https://www.wwpdb.org/ftp/pdb-ftp-sites\n",
    "\n",
    "rsync -rlpt -v -z --delete --port=33444 \\\n",
    "rsync.rcsb.org::ftp_data/structures/divided/pdb/ /home/yuan/data/pdb/rsync"
   ]
  },
  {
   "cell_type": "markdown",
   "id": "846011a6-f3ae-4c9e-bc94-563841883326",
   "metadata": {},
   "source": [
    "## detect interface regions"
   ]
  },
  {
   "cell_type": "code",
   "execution_count": 5,
   "id": "5be63c4d-df96-458f-a625-28b20856c40e",
   "metadata": {},
   "outputs": [
    {
     "name": "stdout",
     "output_type": "stream",
     "text": [
      "total 226888\n",
      "parallel -j4 python run.py /home/yuan/output/pdb_abag ::: /home/yuan/output/pdb_abag/_list/pdb_files_*.txt\n"
     ]
    }
   ],
   "source": [
    "# build files of the paths of pdb files\n",
    "from src.dir import Dir\n",
    "from src.utils import Utils\n",
    "\n",
    "file_iter = Dir(pdb_dir).recrusive_files()\n",
    "\n",
    "list_dir = os.path.join(outputs_dir, '_list')\n",
    "Dir(list_dir).init_dir()\n",
    "outprefix = os.path.join(list_dir, \"pdb_files_\")\n",
    "\n",
    "chunk_size = 10_000\n",
    "Utils.iter_to_txt(file_iter, outprefix, chunk_size)\n",
    "\n",
    "# since 05/16/2025\n",
    "print(f\"parallel -j4 python run.py {outputs_dir} ::: {list_dir}/pdb_files_*.txt\")"
   ]
  },
  {
   "cell_type": "raw",
   "id": "69362770-526b-41c7-a349-5926b9fc99b5",
   "metadata": {},
   "source": [
    "# test\n",
    "python run.py /home/yuan/output/pdb_abag /home/yuan/output/pdb_abag/_list/pdb_files_22.txt\n",
    "\n",
    "# GNU parallel examples\n",
    "parallel -j4 python run.py /home/yuan/output/pdb_abag ::: /home/yuan/output/pdb_abag/_list/pdb_files_*.txt\n",
    "\n",
    "# combine errors into one file\n",
    "cat /home/yuan/output/pdb_abag/pdb_files_*.txt.err > /home/yuan/output/pdb_abag/pdb_failed.txt\n",
    "# rm /home/yuan/output/pdb_abag/pdb_files_*.txt.err\n",
    "\n",
    "#run additional \n",
    "python run.py /home/yuan/output/pdb_abag extra_pdb.txt"
   ]
  },
  {
   "cell_type": "code",
   "execution_count": null,
   "id": "29380dff-5098-4267-b9d3-249c4aff4809",
   "metadata": {},
   "outputs": [],
   "source": []
  },
  {
   "cell_type": "markdown",
   "id": "96fb4644-90a7-4923-9f86-76653d1fdc50",
   "metadata": {},
   "source": [
    "## meta data\n",
    " - chains\n",
    " - map uniprot"
   ]
  },
  {
   "cell_type": "raw",
   "id": "f9330629-df4e-4dcb-ab2a-c567853aac64",
   "metadata": {},
   "source": [
    "# test\n",
    "python run_meta.py /home/yuan/output/pdb_abag /home/yuan/output/pdb_abag/tmp.txt\n",
    "python run_meta.py /home/yuan/output/pdb_abag /home/yuan/output/pdb_abag/pdb_files_22.txt\n",
    "#\n",
    "parallel -j4 python run_meta.py /home/yuan/output/pdb_abag ::: /home/yuan/output/pdb_abag/pdb_files_*.txt"
   ]
  },
  {
   "cell_type": "code",
   "execution_count": null,
   "id": "6783e12b-3293-4a2f-8339-5e0fe2b5759f",
   "metadata": {},
   "outputs": [],
   "source": []
  },
  {
   "cell_type": "code",
   "execution_count": null,
   "id": "cdb96a8e-f32a-4c2d-a6ab-855f90a6c36a",
   "metadata": {},
   "outputs": [],
   "source": []
  },
  {
   "cell_type": "code",
   "execution_count": null,
   "id": "d535a501-ddb4-4c3e-8164-f61b31735679",
   "metadata": {},
   "outputs": [],
   "source": []
  },
  {
   "cell_type": "code",
   "execution_count": null,
   "id": "a20ca06e-0c0b-44b6-8448-a6f01f51bac7",
   "metadata": {},
   "outputs": [],
   "source": []
  },
  {
   "cell_type": "code",
   "execution_count": null,
   "id": "0df0c83a-dab7-465c-8f2c-4e1a7e618f0d",
   "metadata": {},
   "outputs": [],
   "source": []
  }
 ],
 "metadata": {
  "kernelspec": {
   "display_name": "Python 3 (ipykernel)",
   "language": "python",
   "name": "python3"
  },
  "language_info": {
   "codemirror_mode": {
    "name": "ipython",
    "version": 3
   },
   "file_extension": ".py",
   "mimetype": "text/x-python",
   "name": "python",
   "nbconvert_exporter": "python",
   "pygments_lexer": "ipython3",
   "version": "3.10.17"
  }
 },
 "nbformat": 4,
 "nbformat_minor": 5
}
